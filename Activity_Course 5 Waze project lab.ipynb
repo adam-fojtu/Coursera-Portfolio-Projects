{
 "cells": [
  {
   "cell_type": "markdown",
   "metadata": {
    "id": "DtNBZFHO3M7n"
   },
   "source": [
    "# **Waze Project**\n",
    "**Course 5 - Regression analysis: Simplify complex data relationships**"
   ]
  },
  {
   "cell_type": "markdown",
   "metadata": {
    "id": "kaOj1equPMAb"
   },
   "source": [
    "Your team is more than halfway through their user churn project. Earlier, you completed a project proposal, used Python to explore and analyze Waze’s user data, created data visualizations, and conducted a hypothesis test. Now, leadership wants your team to build a regression model to predict user churn based on a variety of variables.\n",
    "\n",
    "You check your inbox and discover a new email from Ursula Sayo, Waze's Operations Manager. Ursula asks your team about the details of the regression model. You also notice two follow-up emails from your supervisor, May Santner. The first email is a response to Ursula, and says that the team will build a binomial logistic regression model. In her second email, May asks you to help build the model and prepare an executive summary to share your results.\n",
    "\n",
    "A notebook was structured and prepared to help you in this project. Please complete the following questions and prepare an executive summary."
   ]
  },
  {
   "cell_type": "markdown",
   "metadata": {
    "id": "rgSbVJvomcVa"
   },
   "source": [
    "# **Course 5 End-of-course project: Regression modeling**\n",
    "\n",
    "In this activity, you will build a binomial logistic regression model. As you have learned, logistic regression helps you estimate the probability of an outcome. For data science professionals, this is a useful skill because it allows you to consider more than one variable against the variable you're measuring against. This opens the door for much more thorough and flexible analysis to be completed.\n",
    "<br/>\n",
    "\n",
    "**The purpose** of this project is to demostrate knowledge of exploratory data analysis (EDA) and a binomial logistic regression model.\n",
    "\n",
    "**The goal** is to build a binomial logistic regression model and evaluate the model's performance.\n",
    "<br/>\n",
    "\n",
    "*This activity has three parts:*\n",
    "\n",
    "**Part 1:** EDA & Checking Model Assumptions\n",
    "* What are some purposes of EDA before constructing a binomial logistic regression model?\n",
    "\n",
    "**Part 2:** Model Building and Evaluation\n",
    "* What resources do you find yourself using as you complete this stage?\n",
    "\n",
    "**Part 3:** Interpreting Model Results\n",
    "\n",
    "* What key insights emerged from your model(s)?\n",
    "\n",
    "* What business recommendations do you propose based on the models built?\n",
    "\n",
    "<br/>\n",
    "\n",
    "Follow the instructions and answer the question below to complete the activity. Then, you will complete an executive summary using the questions listed on the PACE Strategy Document.\n",
    "\n",
    "Be sure to complete this activity before moving on. The next course item will provide you with a completed exemplar to compare to your own work."
   ]
  },
  {
   "cell_type": "markdown",
   "metadata": {
    "id": "4L5F-G_cfLWL"
   },
   "source": [
    "# **Build a regression model**"
   ]
  },
  {
   "cell_type": "markdown",
   "metadata": {
    "id": "3UCHQclzQDUL"
   },
   "source": [
    "<img src=\"images/Pace.png\" width=\"100\" height=\"100\" align=left>\n",
    "\n",
    "# **PACE stages**\n"
   ]
  },
  {
   "cell_type": "markdown",
   "metadata": {
    "id": "3lzafIgkjrdR"
   },
   "source": [
    "Throughout these project notebooks, you'll see references to the problem-solving framework PACE. The following notebook components are labeled with the respective PACE stage: Plan, Analyze, Construct, and Execute."
   ]
  },
  {
   "cell_type": "markdown",
   "metadata": {
    "id": "F5O5cx_qQJmX"
   },
   "source": [
    "<img src=\"images/Plan.png\" width=\"100\" height=\"100\" align=left>\n",
    "\n",
    "\n",
    "## **PACE: Plan**\n",
    "Consider the questions in your PACE Strategy Document to reflect on the Plan stage."
   ]
  },
  {
   "cell_type": "markdown",
   "metadata": {
    "id": "D8qYlvkLQsf2"
   },
   "source": [
    "### **Task 1. Imports and data loading**\n",
    "Import the data and packages that you've learned are needed for building logistic regression models."
   ]
  },
  {
   "cell_type": "code",
   "execution_count": 1,
   "metadata": {
    "id": "ccfeg6X6eOVZ"
   },
   "outputs": [],
   "source": [
    "# Packages for numerics + dataframes\n",
    "import numpy as np\n",
    "import pandas as pd\n",
    "\n",
    "# Packages for visualization\n",
    "import seaborn as sns\n",
    "import matplotlib.pyplot as plt\n",
    "\n",
    "# Packages for Logistic Regression & Confusion Matrix\n",
    "import sklearn.metrics as metrics\n",
    "from sklearn.model_selection import train_test_split\n",
    "from sklearn.linear_model import LogisticRegression\n"
   ]
  },
  {
   "cell_type": "markdown",
   "metadata": {
    "id": "LjljvyG32kqe"
   },
   "source": [
    "Import the dataset.\n",
    "\n",
    "**Note:** As shown in this cell, the dataset has been automatically loaded in for you. You do not need to download the .csv file, or provide more code, in order to access the dataset and proceed with this lab. Please continue with this activity by completing the following instructions."
   ]
  },
  {
   "cell_type": "code",
   "execution_count": 2,
   "metadata": {
    "id": "TyR3sBUYJBO8"
   },
   "outputs": [],
   "source": [
    "# Load the dataset by running this cell\n",
    "\n",
    "df = pd.read_csv('waze_dataset.csv')"
   ]
  },
  {
   "cell_type": "markdown",
   "metadata": {
    "id": "OnrvCSfHUWPv"
   },
   "source": [
    "<img src=\"images/Analyze.png\" width=\"100\" height=\"100\" align=left>\n",
    "\n",
    "## **PACE: Analyze**\n",
    "\n",
    "Consider the questions in your PACE Strategy Document to reflect on the Analyze stage.\n",
    "\n",
    "In this stage, consider the following question:\n",
    "\n",
    "* What are some purposes of EDA before constructing a binomial logistic regression model?"
   ]
  },
  {
   "cell_type": "markdown",
   "metadata": {
    "id": "BgK-IOSRO4Sh"
   },
   "source": [
    "To ensure that there are no missing values and the data types are appropriate for building the model. For example changing variables from integers to floats."
   ]
  },
  {
   "cell_type": "markdown",
   "metadata": {
    "id": "rIcDG2e66wt9"
   },
   "source": [
    "### **Task 2a. Explore data with EDA**\n",
    "\n",
    "Analyze and discover data, looking for correlations, missing data, potential outliers, and/or duplicates.\n",
    "\n"
   ]
  },
  {
   "cell_type": "markdown",
   "metadata": {
    "id": "offDH5p62x73"
   },
   "source": [
    "Start with `.shape` and `info()`."
   ]
  },
  {
   "cell_type": "code",
   "execution_count": 3,
   "metadata": {
    "id": "T4Ag-sZhWg6K"
   },
   "outputs": [
    {
     "name": "stdout",
     "output_type": "stream",
     "text": [
      "number of rows and columns: (14999, 13)\n",
      "\n",
      "INFO:\n",
      "<class 'pandas.core.frame.DataFrame'>\n",
      "RangeIndex: 14999 entries, 0 to 14998\n",
      "Data columns (total 13 columns):\n",
      " #   Column                   Non-Null Count  Dtype  \n",
      "---  ------                   --------------  -----  \n",
      " 0   ID                       14999 non-null  int64  \n",
      " 1   label                    14299 non-null  object \n",
      " 2   sessions                 14999 non-null  int64  \n",
      " 3   drives                   14999 non-null  int64  \n",
      " 4   total_sessions           14999 non-null  float64\n",
      " 5   n_days_after_onboarding  14999 non-null  int64  \n",
      " 6   total_navigations_fav1   14999 non-null  int64  \n",
      " 7   total_navigations_fav2   14999 non-null  int64  \n",
      " 8   driven_km_drives         14999 non-null  float64\n",
      " 9   duration_minutes_drives  14999 non-null  float64\n",
      " 10  activity_days            14999 non-null  int64  \n",
      " 11  driving_days             14999 non-null  int64  \n",
      " 12  device                   14999 non-null  object \n",
      "dtypes: float64(3), int64(8), object(2)\n",
      "memory usage: 1.5+ MB\n",
      "None\n"
     ]
    }
   ],
   "source": [
    "print(f\"number of rows and columns: {df.shape}\")\n",
    "print()\n",
    "print(\"INFO:\")\n",
    "print(df.info())"
   ]
  },
  {
   "cell_type": "markdown",
   "metadata": {
    "id": "Ut0mWpGG6mkh"
   },
   "source": [
    "**Question:** Are there any missing values in your data?"
   ]
  },
  {
   "cell_type": "markdown",
   "metadata": {
    "id": "fSZgL1Eseep6"
   },
   "source": [
    "Yes label columns has 700 missing values."
   ]
  },
  {
   "cell_type": "markdown",
   "metadata": {
    "id": "ZCNi5-Ur2_en"
   },
   "source": [
    "Use `.head()`.\n",
    "\n"
   ]
  },
  {
   "cell_type": "code",
   "execution_count": 4,
   "metadata": {
    "id": "ll2pxoClXgmx"
   },
   "outputs": [
    {
     "data": {
      "text/html": [
       "<div>\n",
       "<style scoped>\n",
       "    .dataframe tbody tr th:only-of-type {\n",
       "        vertical-align: middle;\n",
       "    }\n",
       "\n",
       "    .dataframe tbody tr th {\n",
       "        vertical-align: top;\n",
       "    }\n",
       "\n",
       "    .dataframe thead th {\n",
       "        text-align: right;\n",
       "    }\n",
       "</style>\n",
       "<table border=\"1\" class=\"dataframe\">\n",
       "  <thead>\n",
       "    <tr style=\"text-align: right;\">\n",
       "      <th></th>\n",
       "      <th>ID</th>\n",
       "      <th>label</th>\n",
       "      <th>sessions</th>\n",
       "      <th>drives</th>\n",
       "      <th>total_sessions</th>\n",
       "      <th>n_days_after_onboarding</th>\n",
       "      <th>total_navigations_fav1</th>\n",
       "      <th>total_navigations_fav2</th>\n",
       "      <th>driven_km_drives</th>\n",
       "      <th>duration_minutes_drives</th>\n",
       "      <th>activity_days</th>\n",
       "      <th>driving_days</th>\n",
       "      <th>device</th>\n",
       "    </tr>\n",
       "  </thead>\n",
       "  <tbody>\n",
       "    <tr>\n",
       "      <th>0</th>\n",
       "      <td>0</td>\n",
       "      <td>retained</td>\n",
       "      <td>283</td>\n",
       "      <td>226</td>\n",
       "      <td>296.748273</td>\n",
       "      <td>2276</td>\n",
       "      <td>208</td>\n",
       "      <td>0</td>\n",
       "      <td>2628.845068</td>\n",
       "      <td>1985.775061</td>\n",
       "      <td>28</td>\n",
       "      <td>19</td>\n",
       "      <td>Android</td>\n",
       "    </tr>\n",
       "    <tr>\n",
       "      <th>1</th>\n",
       "      <td>1</td>\n",
       "      <td>retained</td>\n",
       "      <td>133</td>\n",
       "      <td>107</td>\n",
       "      <td>326.896596</td>\n",
       "      <td>1225</td>\n",
       "      <td>19</td>\n",
       "      <td>64</td>\n",
       "      <td>13715.920550</td>\n",
       "      <td>3160.472914</td>\n",
       "      <td>13</td>\n",
       "      <td>11</td>\n",
       "      <td>iPhone</td>\n",
       "    </tr>\n",
       "    <tr>\n",
       "      <th>2</th>\n",
       "      <td>2</td>\n",
       "      <td>retained</td>\n",
       "      <td>114</td>\n",
       "      <td>95</td>\n",
       "      <td>135.522926</td>\n",
       "      <td>2651</td>\n",
       "      <td>0</td>\n",
       "      <td>0</td>\n",
       "      <td>3059.148818</td>\n",
       "      <td>1610.735904</td>\n",
       "      <td>14</td>\n",
       "      <td>8</td>\n",
       "      <td>Android</td>\n",
       "    </tr>\n",
       "    <tr>\n",
       "      <th>3</th>\n",
       "      <td>3</td>\n",
       "      <td>retained</td>\n",
       "      <td>49</td>\n",
       "      <td>40</td>\n",
       "      <td>67.589221</td>\n",
       "      <td>15</td>\n",
       "      <td>322</td>\n",
       "      <td>7</td>\n",
       "      <td>913.591123</td>\n",
       "      <td>587.196542</td>\n",
       "      <td>7</td>\n",
       "      <td>3</td>\n",
       "      <td>iPhone</td>\n",
       "    </tr>\n",
       "    <tr>\n",
       "      <th>4</th>\n",
       "      <td>4</td>\n",
       "      <td>retained</td>\n",
       "      <td>84</td>\n",
       "      <td>68</td>\n",
       "      <td>168.247020</td>\n",
       "      <td>1562</td>\n",
       "      <td>166</td>\n",
       "      <td>5</td>\n",
       "      <td>3950.202008</td>\n",
       "      <td>1219.555924</td>\n",
       "      <td>27</td>\n",
       "      <td>18</td>\n",
       "      <td>Android</td>\n",
       "    </tr>\n",
       "    <tr>\n",
       "      <th>5</th>\n",
       "      <td>5</td>\n",
       "      <td>retained</td>\n",
       "      <td>113</td>\n",
       "      <td>103</td>\n",
       "      <td>279.544437</td>\n",
       "      <td>2637</td>\n",
       "      <td>0</td>\n",
       "      <td>0</td>\n",
       "      <td>901.238699</td>\n",
       "      <td>439.101397</td>\n",
       "      <td>15</td>\n",
       "      <td>11</td>\n",
       "      <td>iPhone</td>\n",
       "    </tr>\n",
       "    <tr>\n",
       "      <th>6</th>\n",
       "      <td>6</td>\n",
       "      <td>retained</td>\n",
       "      <td>3</td>\n",
       "      <td>2</td>\n",
       "      <td>236.725314</td>\n",
       "      <td>360</td>\n",
       "      <td>185</td>\n",
       "      <td>18</td>\n",
       "      <td>5249.172828</td>\n",
       "      <td>726.577205</td>\n",
       "      <td>28</td>\n",
       "      <td>23</td>\n",
       "      <td>iPhone</td>\n",
       "    </tr>\n",
       "    <tr>\n",
       "      <th>7</th>\n",
       "      <td>7</td>\n",
       "      <td>retained</td>\n",
       "      <td>39</td>\n",
       "      <td>35</td>\n",
       "      <td>176.072845</td>\n",
       "      <td>2999</td>\n",
       "      <td>0</td>\n",
       "      <td>0</td>\n",
       "      <td>7892.052468</td>\n",
       "      <td>2466.981741</td>\n",
       "      <td>22</td>\n",
       "      <td>20</td>\n",
       "      <td>iPhone</td>\n",
       "    </tr>\n",
       "    <tr>\n",
       "      <th>8</th>\n",
       "      <td>8</td>\n",
       "      <td>retained</td>\n",
       "      <td>57</td>\n",
       "      <td>46</td>\n",
       "      <td>183.532018</td>\n",
       "      <td>424</td>\n",
       "      <td>0</td>\n",
       "      <td>26</td>\n",
       "      <td>2651.709764</td>\n",
       "      <td>1594.342984</td>\n",
       "      <td>25</td>\n",
       "      <td>20</td>\n",
       "      <td>Android</td>\n",
       "    </tr>\n",
       "    <tr>\n",
       "      <th>9</th>\n",
       "      <td>9</td>\n",
       "      <td>churned</td>\n",
       "      <td>84</td>\n",
       "      <td>68</td>\n",
       "      <td>244.802115</td>\n",
       "      <td>2997</td>\n",
       "      <td>72</td>\n",
       "      <td>0</td>\n",
       "      <td>6043.460295</td>\n",
       "      <td>2341.838528</td>\n",
       "      <td>7</td>\n",
       "      <td>3</td>\n",
       "      <td>iPhone</td>\n",
       "    </tr>\n",
       "  </tbody>\n",
       "</table>\n",
       "</div>"
      ],
      "text/plain": [
       "   ID     label  sessions  drives  total_sessions  n_days_after_onboarding  \\\n",
       "0   0  retained       283     226      296.748273                     2276   \n",
       "1   1  retained       133     107      326.896596                     1225   \n",
       "2   2  retained       114      95      135.522926                     2651   \n",
       "3   3  retained        49      40       67.589221                       15   \n",
       "4   4  retained        84      68      168.247020                     1562   \n",
       "5   5  retained       113     103      279.544437                     2637   \n",
       "6   6  retained         3       2      236.725314                      360   \n",
       "7   7  retained        39      35      176.072845                     2999   \n",
       "8   8  retained        57      46      183.532018                      424   \n",
       "9   9   churned        84      68      244.802115                     2997   \n",
       "\n",
       "   total_navigations_fav1  total_navigations_fav2  driven_km_drives  \\\n",
       "0                     208                       0       2628.845068   \n",
       "1                      19                      64      13715.920550   \n",
       "2                       0                       0       3059.148818   \n",
       "3                     322                       7        913.591123   \n",
       "4                     166                       5       3950.202008   \n",
       "5                       0                       0        901.238699   \n",
       "6                     185                      18       5249.172828   \n",
       "7                       0                       0       7892.052468   \n",
       "8                       0                      26       2651.709764   \n",
       "9                      72                       0       6043.460295   \n",
       "\n",
       "   duration_minutes_drives  activity_days  driving_days   device  \n",
       "0              1985.775061             28            19  Android  \n",
       "1              3160.472914             13            11   iPhone  \n",
       "2              1610.735904             14             8  Android  \n",
       "3               587.196542              7             3   iPhone  \n",
       "4              1219.555924             27            18  Android  \n",
       "5               439.101397             15            11   iPhone  \n",
       "6               726.577205             28            23   iPhone  \n",
       "7              2466.981741             22            20   iPhone  \n",
       "8              1594.342984             25            20  Android  \n",
       "9              2341.838528              7             3   iPhone  "
      ]
     },
     "execution_count": 4,
     "metadata": {},
     "output_type": "execute_result"
    }
   ],
   "source": [
    "df.head(10)"
   ]
  },
  {
   "cell_type": "markdown",
   "metadata": {
    "id": "mT1h-utWs7ow"
   },
   "source": [
    "Use `.drop()` to remove the ID column since we don't need this information for your analysis."
   ]
  },
  {
   "cell_type": "code",
   "execution_count": 5,
   "metadata": {
    "id": "CZK6D8kls9cj"
   },
   "outputs": [],
   "source": [
    "df.drop(columns = \"ID\",inplace = True)\n"
   ]
  },
  {
   "cell_type": "markdown",
   "metadata": {
    "id": "eXn6VVNO7ArZ"
   },
   "source": [
    "Now, check the class balance of the dependent (target) variable, `label`."
   ]
  },
  {
   "cell_type": "code",
   "execution_count": 74,
   "metadata": {
    "id": "UCN_-mH87DwP"
   },
   "outputs": [
    {
     "data": {
      "text/plain": [
       "retained    0.822645\n",
       "churned     0.177355\n",
       "Name: label, dtype: float64"
      ]
     },
     "execution_count": 74,
     "metadata": {},
     "output_type": "execute_result"
    }
   ],
   "source": [
    "df[\"label\"].value_counts(normalize= True)"
   ]
  },
  {
   "cell_type": "markdown",
   "metadata": {
    "id": "pcEIBLGcIbGa"
   },
   "source": [
    "Call `.describe()` on the data.\n"
   ]
  },
  {
   "cell_type": "code",
   "execution_count": 7,
   "metadata": {
    "id": "AjcSoFeVIhYf"
   },
   "outputs": [
    {
     "data": {
      "text/html": [
       "<div>\n",
       "<style scoped>\n",
       "    .dataframe tbody tr th:only-of-type {\n",
       "        vertical-align: middle;\n",
       "    }\n",
       "\n",
       "    .dataframe tbody tr th {\n",
       "        vertical-align: top;\n",
       "    }\n",
       "\n",
       "    .dataframe thead th {\n",
       "        text-align: right;\n",
       "    }\n",
       "</style>\n",
       "<table border=\"1\" class=\"dataframe\">\n",
       "  <thead>\n",
       "    <tr style=\"text-align: right;\">\n",
       "      <th></th>\n",
       "      <th>sessions</th>\n",
       "      <th>drives</th>\n",
       "      <th>total_sessions</th>\n",
       "      <th>n_days_after_onboarding</th>\n",
       "      <th>total_navigations_fav1</th>\n",
       "      <th>total_navigations_fav2</th>\n",
       "      <th>driven_km_drives</th>\n",
       "      <th>duration_minutes_drives</th>\n",
       "      <th>activity_days</th>\n",
       "      <th>driving_days</th>\n",
       "    </tr>\n",
       "  </thead>\n",
       "  <tbody>\n",
       "    <tr>\n",
       "      <th>count</th>\n",
       "      <td>14999.000000</td>\n",
       "      <td>14999.000000</td>\n",
       "      <td>14999.000000</td>\n",
       "      <td>14999.000000</td>\n",
       "      <td>14999.000000</td>\n",
       "      <td>14999.000000</td>\n",
       "      <td>14999.000000</td>\n",
       "      <td>14999.000000</td>\n",
       "      <td>14999.000000</td>\n",
       "      <td>14999.000000</td>\n",
       "    </tr>\n",
       "    <tr>\n",
       "      <th>mean</th>\n",
       "      <td>80.633776</td>\n",
       "      <td>67.281152</td>\n",
       "      <td>189.964447</td>\n",
       "      <td>1749.837789</td>\n",
       "      <td>121.605974</td>\n",
       "      <td>29.672512</td>\n",
       "      <td>4039.340921</td>\n",
       "      <td>1860.976012</td>\n",
       "      <td>15.537102</td>\n",
       "      <td>12.179879</td>\n",
       "    </tr>\n",
       "    <tr>\n",
       "      <th>std</th>\n",
       "      <td>80.699065</td>\n",
       "      <td>65.913872</td>\n",
       "      <td>136.405128</td>\n",
       "      <td>1008.513876</td>\n",
       "      <td>148.121544</td>\n",
       "      <td>45.394651</td>\n",
       "      <td>2502.149334</td>\n",
       "      <td>1446.702288</td>\n",
       "      <td>9.004655</td>\n",
       "      <td>7.824036</td>\n",
       "    </tr>\n",
       "    <tr>\n",
       "      <th>min</th>\n",
       "      <td>0.000000</td>\n",
       "      <td>0.000000</td>\n",
       "      <td>0.220211</td>\n",
       "      <td>4.000000</td>\n",
       "      <td>0.000000</td>\n",
       "      <td>0.000000</td>\n",
       "      <td>60.441250</td>\n",
       "      <td>18.282082</td>\n",
       "      <td>0.000000</td>\n",
       "      <td>0.000000</td>\n",
       "    </tr>\n",
       "    <tr>\n",
       "      <th>25%</th>\n",
       "      <td>23.000000</td>\n",
       "      <td>20.000000</td>\n",
       "      <td>90.661156</td>\n",
       "      <td>878.000000</td>\n",
       "      <td>9.000000</td>\n",
       "      <td>0.000000</td>\n",
       "      <td>2212.600607</td>\n",
       "      <td>835.996260</td>\n",
       "      <td>8.000000</td>\n",
       "      <td>5.000000</td>\n",
       "    </tr>\n",
       "    <tr>\n",
       "      <th>50%</th>\n",
       "      <td>56.000000</td>\n",
       "      <td>48.000000</td>\n",
       "      <td>159.568115</td>\n",
       "      <td>1741.000000</td>\n",
       "      <td>71.000000</td>\n",
       "      <td>9.000000</td>\n",
       "      <td>3493.858085</td>\n",
       "      <td>1478.249859</td>\n",
       "      <td>16.000000</td>\n",
       "      <td>12.000000</td>\n",
       "    </tr>\n",
       "    <tr>\n",
       "      <th>75%</th>\n",
       "      <td>112.000000</td>\n",
       "      <td>93.000000</td>\n",
       "      <td>254.192341</td>\n",
       "      <td>2623.500000</td>\n",
       "      <td>178.000000</td>\n",
       "      <td>43.000000</td>\n",
       "      <td>5289.861262</td>\n",
       "      <td>2464.362632</td>\n",
       "      <td>23.000000</td>\n",
       "      <td>19.000000</td>\n",
       "    </tr>\n",
       "    <tr>\n",
       "      <th>max</th>\n",
       "      <td>743.000000</td>\n",
       "      <td>596.000000</td>\n",
       "      <td>1216.154633</td>\n",
       "      <td>3500.000000</td>\n",
       "      <td>1236.000000</td>\n",
       "      <td>415.000000</td>\n",
       "      <td>21183.401890</td>\n",
       "      <td>15851.727160</td>\n",
       "      <td>31.000000</td>\n",
       "      <td>30.000000</td>\n",
       "    </tr>\n",
       "  </tbody>\n",
       "</table>\n",
       "</div>"
      ],
      "text/plain": [
       "           sessions        drives  total_sessions  n_days_after_onboarding  \\\n",
       "count  14999.000000  14999.000000    14999.000000             14999.000000   \n",
       "mean      80.633776     67.281152      189.964447              1749.837789   \n",
       "std       80.699065     65.913872      136.405128              1008.513876   \n",
       "min        0.000000      0.000000        0.220211                 4.000000   \n",
       "25%       23.000000     20.000000       90.661156               878.000000   \n",
       "50%       56.000000     48.000000      159.568115              1741.000000   \n",
       "75%      112.000000     93.000000      254.192341              2623.500000   \n",
       "max      743.000000    596.000000     1216.154633              3500.000000   \n",
       "\n",
       "       total_navigations_fav1  total_navigations_fav2  driven_km_drives  \\\n",
       "count            14999.000000            14999.000000      14999.000000   \n",
       "mean               121.605974               29.672512       4039.340921   \n",
       "std                148.121544               45.394651       2502.149334   \n",
       "min                  0.000000                0.000000         60.441250   \n",
       "25%                  9.000000                0.000000       2212.600607   \n",
       "50%                 71.000000                9.000000       3493.858085   \n",
       "75%                178.000000               43.000000       5289.861262   \n",
       "max               1236.000000              415.000000      21183.401890   \n",
       "\n",
       "       duration_minutes_drives  activity_days  driving_days  \n",
       "count             14999.000000   14999.000000  14999.000000  \n",
       "mean               1860.976012      15.537102     12.179879  \n",
       "std                1446.702288       9.004655      7.824036  \n",
       "min                  18.282082       0.000000      0.000000  \n",
       "25%                 835.996260       8.000000      5.000000  \n",
       "50%                1478.249859      16.000000     12.000000  \n",
       "75%                2464.362632      23.000000     19.000000  \n",
       "max               15851.727160      31.000000     30.000000  "
      ]
     },
     "execution_count": 7,
     "metadata": {},
     "output_type": "execute_result"
    }
   ],
   "source": [
    "df.describe()"
   ]
  },
  {
   "cell_type": "markdown",
   "metadata": {
    "id": "v3EPwXZH7KnT"
   },
   "source": [
    "**Question:** Are there any variables that could potentially have outliers just by assessing at the quartile values, standard deviation, and max values?"
   ]
  },
  {
   "cell_type": "markdown",
   "metadata": {
    "id": "DjmTTz3YfgmA"
   },
   "source": [
    "I think pretty much every variable except ndays after onboarding and driving days has outliers."
   ]
  },
  {
   "cell_type": "markdown",
   "metadata": {
    "id": "hl8G_0FR6Rvk"
   },
   "source": [
    "### **Task 2b. Create features**\n",
    "\n",
    "Create features that may be of interest to the stakeholder and/or that are needed to address the business scenario/problem."
   ]
  },
  {
   "cell_type": "markdown",
   "metadata": {
    "id": "pKkx6FvS4OpI"
   },
   "source": [
    "#### **`km_per_driving_day`**\n",
    "\n",
    "You know from earlier EDA that churn rate correlates with distance driven per driving day in the last month. It might be helpful to engineer a feature that captures this information.\n",
    "\n",
    "1. Create a new column in `df` called `km_per_driving_day`, which represents the mean distance driven per driving day for each user.\n",
    "\n",
    "2. Call the `describe()` method on the new column."
   ]
  },
  {
   "cell_type": "code",
   "execution_count": 8,
   "metadata": {
    "id": "KCEzE-gwL5gq"
   },
   "outputs": [
    {
     "data": {
      "text/plain": [
       "count    1.499900e+04\n",
       "mean              inf\n",
       "std               NaN\n",
       "min      3.022063e+00\n",
       "25%      1.672804e+02\n",
       "50%      3.231459e+02\n",
       "75%      7.579257e+02\n",
       "max               inf\n",
       "Name: km_per_driving_day, dtype: float64"
      ]
     },
     "execution_count": 8,
     "metadata": {},
     "output_type": "execute_result"
    }
   ],
   "source": [
    "# 1. Create `km_per_driving_day` column\n",
    "df[\"km_per_driving_day\"] = df.driven_km_drives/df.driving_days\n",
    "\n",
    "# 2. Call `describe()` on the new column\n",
    "df[\"km_per_driving_day\"].describe()"
   ]
  },
  {
   "cell_type": "markdown",
   "metadata": {
    "id": "6Ldmks6g4ZzE"
   },
   "source": [
    "Note that some values are infinite. This is the result of there being values of zero in the `driving_days` column. Pandas imputes a value of infinity in the corresponding rows of the new column because division by zero is undefined.\n",
    "\n",
    "1. Convert these values from infinity to zero. You can use `np.inf` to refer to a value of infinity.\n",
    "\n",
    "2. Call `describe()` on the `km_per_driving_day` column to verify that it worked."
   ]
  },
  {
   "cell_type": "code",
   "execution_count": 9,
   "metadata": {
    "id": "FetTHatPoR6n"
   },
   "outputs": [
    {
     "data": {
      "text/plain": [
       "count    14999.000000\n",
       "mean       578.963113\n",
       "std       1030.094384\n",
       "min          0.000000\n",
       "25%        136.238895\n",
       "50%        272.889272\n",
       "75%        558.686918\n",
       "max      15420.234110\n",
       "Name: km_per_driving_day, dtype: float64"
      ]
     },
     "execution_count": 9,
     "metadata": {},
     "output_type": "execute_result"
    }
   ],
   "source": [
    "# 1. Convert infinite values to zero\n",
    "df[\"km_per_driving_day\"].replace(np.inf,0.0,inplace = True)\n",
    "\n",
    "# 2. Confirm that it worked\n",
    "df[\"km_per_driving_day\"].describe()"
   ]
  },
  {
   "cell_type": "markdown",
   "metadata": {
    "id": "ky5h_Aum3RK1"
   },
   "source": [
    "#### **`professional_driver`**\n",
    "\n",
    "Create a new, binary feature called `professional_driver` that is a 1 for users who had 60 or more drives <u>**and**</u> drove on 15+ days in the last month.\n",
    "\n",
    "**Note:** The objective is to create a new feature that separates professional drivers from other drivers. In this scenario, domain knowledge and intuition are used to determine these deciding thresholds, but ultimately they are arbitrary."
   ]
  },
  {
   "cell_type": "markdown",
   "metadata": {
    "id": "ml0Y6mb--HD5"
   },
   "source": [
    "To create this column, use the [`np.where()`](https://numpy.org/doc/stable/reference/generated/numpy.where.html) function. This function accepts as arguments:\n",
    "1. A condition\n",
    "2. What to return when the condition is true\n",
    "3. What to return when the condition is false\n",
    "\n",
    "```\n",
    "Example:\n",
    "x = [1, 2, 3]\n",
    "x = np.where(x > 2, 100, 0)\n",
    "x\n",
    "array([  0,   0, 100])\n",
    "```"
   ]
  },
  {
   "cell_type": "code",
   "execution_count": 78,
   "metadata": {
    "id": "huWmzNp2Xj8o"
   },
   "outputs": [],
   "source": [
    "# Create `professional_driver` column\n",
    "df[\"professional_driver\"] = np.where((df.drives >= 60) & (df.driving_days >= 15),1,0)"
   ]
  },
  {
   "cell_type": "markdown",
   "metadata": {
    "id": "Sq1WCqLmaHSU"
   },
   "source": [
    "Perform a quick inspection of the new variable.\n",
    "\n",
    "1. Check the count of professional drivers and non-professionals\n",
    "\n",
    "2. Within each class (professional and non-professional) calculate the churn rate"
   ]
  },
  {
   "cell_type": "code",
   "execution_count": 80,
   "metadata": {
    "id": "jCAvucIVa3jE"
   },
   "outputs": [
    {
     "name": "stdout",
     "output_type": "stream",
     "text": [
      "0    11811\n",
      "1     2488\n",
      "Name: professional_driver, dtype: int64\n",
      "\n",
      "                              sessions\n",
      "professional_driver label             \n",
      "0                   churned       2348\n",
      "                    retained      9463\n",
      "1                   churned        188\n",
      "                    retained      2300\n",
      "\n"
     ]
    },
    {
     "data": {
      "text/plain": [
       "professional_driver  label   \n",
       "0                    retained    0.801202\n",
       "                     churned     0.198798\n",
       "1                    retained    0.924437\n",
       "                     churned     0.075563\n",
       "Name: label, dtype: float64"
      ]
     },
     "execution_count": 80,
     "metadata": {},
     "output_type": "execute_result"
    }
   ],
   "source": [
    "# 1. Check count of professionals and non-professionals\n",
    "print(df.professional_driver.value_counts())\n",
    "print()\n",
    "# 2. Check in-class churn rate\n",
    "driver_churn = pd.DataFrame(df.groupby([\"professional_driver\",\"label\"]).count()[\"sessions\"])\n",
    "driver_churn.rename(columns = {\"sessions\":\"number_of_drivers\"})\n",
    "print(driver_churn)\n",
    "print()\n",
    "\n",
    "df.groupby([\"professional_driver\"])[\"label\"].value_counts(normalize = True)"
   ]
  },
  {
   "cell_type": "markdown",
   "metadata": {
    "id": "P7kHbF4m-ZXA"
   },
   "source": [
    "The churn rate for professional drivers is 7.6%, while the churn rate for non-professionals is 19.9%. This seems like it could add predictive signal to the model."
   ]
  },
  {
   "cell_type": "markdown",
   "metadata": {
    "id": "lgPul2DiY6T4"
   },
   "source": [
    "<img src=\"images/Construct.png\" width=\"100\" height=\"100\" align=left>\n",
    "\n",
    "## **PACE: Construct**\n",
    "\n",
    "After analysis and deriving variables with close relationships, it is time to begin constructing the model.\n",
    "\n",
    "Consider the questions in your PACE Strategy Document to reflect on the Construct stage.\n",
    "\n",
    "In this stage, consider the following question:\n",
    "\n",
    "* Why did you select the X variables you did?"
   ]
  },
  {
   "cell_type": "markdown",
   "metadata": {
    "id": "nZi2G9pkQ_kM"
   },
   "source": [
    "> *Initially, columns were dropped based on high multicollinearity. Later, variable selection can be fine-tuned by running and rerunning models to look at changes in accuracy, recall, and precision.*\n",
    "<br></br>\n",
    "> *Initial variable selection was based on the business objective and insights from prior EDA."
   ]
  },
  {
   "cell_type": "markdown",
   "metadata": {
    "id": "07UJJm41ajgf"
   },
   "source": [
    "### **Task 3a. Preparing variables**"
   ]
  },
  {
   "cell_type": "markdown",
   "metadata": {
    "id": "aanTG0VxniQh"
   },
   "source": [
    "Call `info()` on the dataframe to check the data type of the `label` variable and to verify if there are any missing values."
   ]
  },
  {
   "cell_type": "code",
   "execution_count": 12,
   "metadata": {
    "id": "tHFNCNj3ob30"
   },
   "outputs": [
    {
     "name": "stdout",
     "output_type": "stream",
     "text": [
      "<class 'pandas.core.frame.DataFrame'>\n",
      "RangeIndex: 14999 entries, 0 to 14998\n",
      "Data columns (total 14 columns):\n",
      " #   Column                   Non-Null Count  Dtype  \n",
      "---  ------                   --------------  -----  \n",
      " 0   label                    14299 non-null  object \n",
      " 1   sessions                 14999 non-null  int64  \n",
      " 2   drives                   14999 non-null  int64  \n",
      " 3   total_sessions           14999 non-null  float64\n",
      " 4   n_days_after_onboarding  14999 non-null  int64  \n",
      " 5   total_navigations_fav1   14999 non-null  int64  \n",
      " 6   total_navigations_fav2   14999 non-null  int64  \n",
      " 7   driven_km_drives         14999 non-null  float64\n",
      " 8   duration_minutes_drives  14999 non-null  float64\n",
      " 9   activity_days            14999 non-null  int64  \n",
      " 10  driving_days             14999 non-null  int64  \n",
      " 11  device                   14999 non-null  object \n",
      " 12  km_per_driving_day       14999 non-null  float64\n",
      " 13  professional_driver      14999 non-null  int64  \n",
      "dtypes: float64(4), int64(8), object(2)\n",
      "memory usage: 1.6+ MB\n"
     ]
    }
   ],
   "source": [
    "df.info()\n"
   ]
  },
  {
   "cell_type": "markdown",
   "metadata": {
    "id": "J90QgkTrofOC"
   },
   "source": [
    "Because you know from previous EDA that there is no evidence of a non-random cause of the 700 missing values in the `label` column, and because these observations comprise less than 5% of the data, use the `dropna()` method to drop the rows that are missing this data."
   ]
  },
  {
   "cell_type": "code",
   "execution_count": 13,
   "metadata": {
    "id": "B34fDk52o2Uk"
   },
   "outputs": [
    {
     "data": {
      "text/plain": [
       "label                      0\n",
       "sessions                   0\n",
       "drives                     0\n",
       "total_sessions             0\n",
       "n_days_after_onboarding    0\n",
       "total_navigations_fav1     0\n",
       "total_navigations_fav2     0\n",
       "driven_km_drives           0\n",
       "duration_minutes_drives    0\n",
       "activity_days              0\n",
       "driving_days               0\n",
       "device                     0\n",
       "km_per_driving_day         0\n",
       "professional_driver        0\n",
       "dtype: int64"
      ]
     },
     "execution_count": 13,
     "metadata": {},
     "output_type": "execute_result"
    }
   ],
   "source": [
    "# Drop rows with missing data in `label` column\n",
    "df = df.dropna(axis = 0).reset_index(drop = True)\n",
    "df.isnull().sum()"
   ]
  },
  {
   "cell_type": "markdown",
   "metadata": {
    "id": "UV3KLq7LpcWB"
   },
   "source": [
    "#### **Impute outliers**\n",
    "\n",
    "You rarely want to drop outliers, and generally will not do so unless there is a clear reason for it (e.g., typographic errors).\n",
    "\n",
    "At times outliers can be changed to the **median, mean, 95th percentile, etc.**\n",
    "\n",
    "Previously, you determined that seven of the variables had clear signs of containing outliers:\n",
    "\n",
    "* `sessions`\n",
    "* `drives`\n",
    "* `total_sessions`\n",
    "* `total_navigations_fav1`\n",
    "* `total_navigations_fav2`\n",
    "* `driven_km_drives`\n",
    "* `duration_minutes_drives`\n",
    "\n",
    "For this analysis, impute the outlying values for these columns. Calculate the **95th percentile** of each column and change to this value any value in the column that exceeds it.\n"
   ]
  },
  {
   "cell_type": "code",
   "execution_count": 14,
   "metadata": {
    "id": "7fRaU2JKpyXg"
   },
   "outputs": [
    {
     "name": "stdout",
     "output_type": "stream",
     "text": [
      "95th percentile for column sessions is 243.00\n",
      "\n",
      "95th percentile for column drives is 200.00\n",
      "\n",
      "95th percentile for column total_sessions is 455.43\n",
      "\n",
      "95th percentile for column total_navigations_fav1 is 422.00\n",
      "\n",
      "95th percentile for column total_navigations_fav2 is 124.00\n",
      "\n",
      "95th percentile for column driven_km_drives is 8898.68\n",
      "\n",
      "95th percentile for column duration_minutes_drives is 4668.12\n",
      "\n"
     ]
    }
   ],
   "source": [
    "# Impute outliers\n",
    "def percentile_imputer(col_name, percentile, *args, **kwargs):\n",
    "    df[col_name][df[col_name] > np.quantile(df[col_name], percentile)] = np.quantile(df[col_name], percentile)\n",
    "    print(\"95th percentile for column {0} is {1:.2f}\".format(col_name,np.quantile(df[col_name], percentile)))\n",
    "    print()\n",
    "\n",
    "percentile_imputer(\"sessions\", 0.95)\n",
    "percentile_imputer(\"drives\", 0.95)\n",
    "percentile_imputer(\"total_sessions\", 0.95)\n",
    "percentile_imputer(\"total_navigations_fav1\", 0.95)\n",
    "percentile_imputer(\"total_navigations_fav2\", 0.95)\n",
    "percentile_imputer(\"driven_km_drives\", 0.95)\n",
    "percentile_imputer(\"duration_minutes_drives\", 0.95)\n"
   ]
  },
  {
   "cell_type": "code",
   "execution_count": 15,
   "metadata": {},
   "outputs": [
    {
     "name": "stdout",
     "output_type": "stream",
     "text": [
      "95th percentile for column sessions is 243.00\n",
      "\n",
      "95th percentile for column drives is 200.00\n",
      "\n",
      "95th percentile for column total_sessions is 455.43\n",
      "\n",
      "95th percentile for column total_navigations_fav1 is 422.00\n",
      "\n",
      "95th percentile for column total_navigations_fav2 is 124.00\n",
      "\n",
      "95th percentile for column driven_km_drives is 8898.68\n",
      "\n",
      "95th percentile for column duration_minutes_drives is 4668.12\n",
      "\n"
     ]
    }
   ],
   "source": [
    "def percentile_imputer2(col_name, percentile, *args, **kwargs):\n",
    "    threshold = np.quantile(df[col_name],percentile)\n",
    "    df[col_name] = np.where(df[col_name] > threshold,threshold, df[col_name])\n",
    "    print(\"{0}th percentile for column {1} is {2:.2f}\".format(str(percentile)[2:4],col_name,threshold))\n",
    "    print()\n",
    "             \n",
    "percentile_imputer2(\"sessions\", 0.95)\n",
    "percentile_imputer2(\"drives\", 0.95)\n",
    "percentile_imputer2(\"total_sessions\", 0.95)\n",
    "percentile_imputer2(\"total_navigations_fav1\", 0.95)\n",
    "percentile_imputer2(\"total_navigations_fav2\", 0.95)\n",
    "percentile_imputer2(\"driven_km_drives\", 0.95)\n",
    "percentile_imputer2(\"duration_minutes_drives\", 0.95)"
   ]
  },
  {
   "cell_type": "code",
   "execution_count": 16,
   "metadata": {},
   "outputs": [
    {
     "name": "stdout",
     "output_type": "stream",
     "text": [
      "95th percentile for sessions is 243.00\n",
      "\n",
      "95th percentile for drives is 200.00\n",
      "\n",
      "95th percentile for total_sessions is 455.43\n",
      "\n",
      "95th percentile for total_navigations_fav1 is 422.00\n",
      "\n",
      "95th percentile for total_navigations_fav2 is 124.00\n",
      "\n",
      "95th percentile for driven_km_drives is 8898.67\n",
      "\n",
      "95th percentile for duration_minutes_drives is 4668.11\n",
      "\n"
     ]
    }
   ],
   "source": [
    "column_list = [\"sessions\",\n",
    "\"drives\",\n",
    "\"total_sessions\",\n",
    "\"total_navigations_fav1\",\n",
    "\"total_navigations_fav2\",\n",
    "\"driven_km_drives\",\n",
    "\"duration_minutes_drives\"]\n",
    "\n",
    "def percentile_imputer3(col_list, percentile, *args, **kwargs):\n",
    "    for column in col_list:\n",
    "        threshold = np.quantile(df[column],percentile)\n",
    "        df[column] = np.where(df[column] > threshold,threshold, df[column])\n",
    "        print(\"{0}th percentile for {1} is {2:.2f}\".format(str(percentile)[2:4],column,threshold))\n",
    "        print()\n",
    "        \n",
    "percentile_imputer3(column_list, 0.95)"
   ]
  },
  {
   "cell_type": "markdown",
   "metadata": {
    "id": "90s91HTOAqnT"
   },
   "source": [
    "Call `describe()`."
   ]
  },
  {
   "cell_type": "code",
   "execution_count": 17,
   "metadata": {
    "id": "aU13ZoCMAN_s"
   },
   "outputs": [
    {
     "data": {
      "text/html": [
       "<div>\n",
       "<style scoped>\n",
       "    .dataframe tbody tr th:only-of-type {\n",
       "        vertical-align: middle;\n",
       "    }\n",
       "\n",
       "    .dataframe tbody tr th {\n",
       "        vertical-align: top;\n",
       "    }\n",
       "\n",
       "    .dataframe thead th {\n",
       "        text-align: right;\n",
       "    }\n",
       "</style>\n",
       "<table border=\"1\" class=\"dataframe\">\n",
       "  <thead>\n",
       "    <tr style=\"text-align: right;\">\n",
       "      <th></th>\n",
       "      <th>sessions</th>\n",
       "      <th>drives</th>\n",
       "      <th>total_sessions</th>\n",
       "      <th>n_days_after_onboarding</th>\n",
       "      <th>total_navigations_fav1</th>\n",
       "      <th>total_navigations_fav2</th>\n",
       "      <th>driven_km_drives</th>\n",
       "      <th>duration_minutes_drives</th>\n",
       "      <th>activity_days</th>\n",
       "      <th>driving_days</th>\n",
       "      <th>km_per_driving_day</th>\n",
       "      <th>professional_driver</th>\n",
       "    </tr>\n",
       "  </thead>\n",
       "  <tbody>\n",
       "    <tr>\n",
       "      <th>count</th>\n",
       "      <td>14299.000000</td>\n",
       "      <td>14299.000000</td>\n",
       "      <td>14299.000000</td>\n",
       "      <td>14299.000000</td>\n",
       "      <td>14299.000000</td>\n",
       "      <td>14299.000000</td>\n",
       "      <td>14299.000000</td>\n",
       "      <td>14299.000000</td>\n",
       "      <td>14299.000000</td>\n",
       "      <td>14299.000000</td>\n",
       "      <td>14299.000000</td>\n",
       "      <td>14299.000000</td>\n",
       "    </tr>\n",
       "    <tr>\n",
       "      <th>mean</th>\n",
       "      <td>76.539688</td>\n",
       "      <td>63.964683</td>\n",
       "      <td>183.716690</td>\n",
       "      <td>1751.822505</td>\n",
       "      <td>114.562767</td>\n",
       "      <td>27.187216</td>\n",
       "      <td>3944.556489</td>\n",
       "      <td>1792.907728</td>\n",
       "      <td>15.544653</td>\n",
       "      <td>12.182530</td>\n",
       "      <td>581.942399</td>\n",
       "      <td>0.159731</td>\n",
       "    </tr>\n",
       "    <tr>\n",
       "      <th>std</th>\n",
       "      <td>67.243178</td>\n",
       "      <td>55.127927</td>\n",
       "      <td>118.719114</td>\n",
       "      <td>1008.663834</td>\n",
       "      <td>124.378550</td>\n",
       "      <td>36.715302</td>\n",
       "      <td>2218.353475</td>\n",
       "      <td>1224.321582</td>\n",
       "      <td>9.016088</td>\n",
       "      <td>7.833835</td>\n",
       "      <td>1038.254509</td>\n",
       "      <td>0.366370</td>\n",
       "    </tr>\n",
       "    <tr>\n",
       "      <th>min</th>\n",
       "      <td>0.000000</td>\n",
       "      <td>0.000000</td>\n",
       "      <td>0.220211</td>\n",
       "      <td>4.000000</td>\n",
       "      <td>0.000000</td>\n",
       "      <td>0.000000</td>\n",
       "      <td>60.441250</td>\n",
       "      <td>18.282082</td>\n",
       "      <td>0.000000</td>\n",
       "      <td>0.000000</td>\n",
       "      <td>0.000000</td>\n",
       "      <td>0.000000</td>\n",
       "    </tr>\n",
       "    <tr>\n",
       "      <th>25%</th>\n",
       "      <td>23.000000</td>\n",
       "      <td>20.000000</td>\n",
       "      <td>90.457733</td>\n",
       "      <td>878.500000</td>\n",
       "      <td>10.000000</td>\n",
       "      <td>0.000000</td>\n",
       "      <td>2217.319909</td>\n",
       "      <td>840.181344</td>\n",
       "      <td>8.000000</td>\n",
       "      <td>5.000000</td>\n",
       "      <td>136.168003</td>\n",
       "      <td>0.000000</td>\n",
       "    </tr>\n",
       "    <tr>\n",
       "      <th>50%</th>\n",
       "      <td>56.000000</td>\n",
       "      <td>48.000000</td>\n",
       "      <td>158.718571</td>\n",
       "      <td>1749.000000</td>\n",
       "      <td>71.000000</td>\n",
       "      <td>9.000000</td>\n",
       "      <td>3496.545617</td>\n",
       "      <td>1479.394387</td>\n",
       "      <td>16.000000</td>\n",
       "      <td>12.000000</td>\n",
       "      <td>273.301012</td>\n",
       "      <td>0.000000</td>\n",
       "    </tr>\n",
       "    <tr>\n",
       "      <th>75%</th>\n",
       "      <td>111.000000</td>\n",
       "      <td>93.000000</td>\n",
       "      <td>253.540450</td>\n",
       "      <td>2627.500000</td>\n",
       "      <td>178.000000</td>\n",
       "      <td>43.000000</td>\n",
       "      <td>5299.972162</td>\n",
       "      <td>2466.928876</td>\n",
       "      <td>23.000000</td>\n",
       "      <td>19.000000</td>\n",
       "      <td>558.018761</td>\n",
       "      <td>0.000000</td>\n",
       "    </tr>\n",
       "    <tr>\n",
       "      <th>max</th>\n",
       "      <td>243.000000</td>\n",
       "      <td>200.000000</td>\n",
       "      <td>455.427207</td>\n",
       "      <td>3500.000000</td>\n",
       "      <td>422.000000</td>\n",
       "      <td>124.000000</td>\n",
       "      <td>8898.673443</td>\n",
       "      <td>4668.110461</td>\n",
       "      <td>31.000000</td>\n",
       "      <td>30.000000</td>\n",
       "      <td>15420.234110</td>\n",
       "      <td>1.000000</td>\n",
       "    </tr>\n",
       "  </tbody>\n",
       "</table>\n",
       "</div>"
      ],
      "text/plain": [
       "           sessions        drives  total_sessions  n_days_after_onboarding  \\\n",
       "count  14299.000000  14299.000000    14299.000000             14299.000000   \n",
       "mean      76.539688     63.964683      183.716690              1751.822505   \n",
       "std       67.243178     55.127927      118.719114              1008.663834   \n",
       "min        0.000000      0.000000        0.220211                 4.000000   \n",
       "25%       23.000000     20.000000       90.457733               878.500000   \n",
       "50%       56.000000     48.000000      158.718571              1749.000000   \n",
       "75%      111.000000     93.000000      253.540450              2627.500000   \n",
       "max      243.000000    200.000000      455.427207              3500.000000   \n",
       "\n",
       "       total_navigations_fav1  total_navigations_fav2  driven_km_drives  \\\n",
       "count            14299.000000            14299.000000      14299.000000   \n",
       "mean               114.562767               27.187216       3944.556489   \n",
       "std                124.378550               36.715302       2218.353475   \n",
       "min                  0.000000                0.000000         60.441250   \n",
       "25%                 10.000000                0.000000       2217.319909   \n",
       "50%                 71.000000                9.000000       3496.545617   \n",
       "75%                178.000000               43.000000       5299.972162   \n",
       "max                422.000000              124.000000       8898.673443   \n",
       "\n",
       "       duration_minutes_drives  activity_days  driving_days  \\\n",
       "count             14299.000000   14299.000000  14299.000000   \n",
       "mean               1792.907728      15.544653     12.182530   \n",
       "std                1224.321582       9.016088      7.833835   \n",
       "min                  18.282082       0.000000      0.000000   \n",
       "25%                 840.181344       8.000000      5.000000   \n",
       "50%                1479.394387      16.000000     12.000000   \n",
       "75%                2466.928876      23.000000     19.000000   \n",
       "max                4668.110461      31.000000     30.000000   \n",
       "\n",
       "       km_per_driving_day  professional_driver  \n",
       "count        14299.000000         14299.000000  \n",
       "mean           581.942399             0.159731  \n",
       "std           1038.254509             0.366370  \n",
       "min              0.000000             0.000000  \n",
       "25%            136.168003             0.000000  \n",
       "50%            273.301012             0.000000  \n",
       "75%            558.018761             0.000000  \n",
       "max          15420.234110             1.000000  "
      ]
     },
     "execution_count": 17,
     "metadata": {},
     "output_type": "execute_result"
    }
   ],
   "source": [
    "df.describe()"
   ]
  },
  {
   "cell_type": "markdown",
   "metadata": {
    "id": "E9dLJfBHAxNy"
   },
   "source": [
    "#### **Encode categorical variables**"
   ]
  },
  {
   "cell_type": "code",
   "execution_count": 18,
   "metadata": {},
   "outputs": [
    {
     "data": {
      "text/plain": [
       "retained    11763\n",
       "churned      2536\n",
       "Name: label, dtype: int64"
      ]
     },
     "execution_count": 18,
     "metadata": {},
     "output_type": "execute_result"
    }
   ],
   "source": [
    "df.label.value_counts()"
   ]
  },
  {
   "cell_type": "markdown",
   "metadata": {
    "id": "RksGqJI3A7L9"
   },
   "source": [
    "Change the data type of the `label` column to be binary. This change is needed to train a logistic regression model.\n",
    "\n",
    "Assign a `0` for all `retained` users.\n",
    "\n",
    "Assign a `1` for all `churned` users.\n",
    "\n",
    "Save this variable as `label2` as to not overwrite the original `label` variable.\n",
    "\n",
    "**Note:** There are many ways to do this. Consider using `np.where()` as you did earlier in this notebook."
   ]
  },
  {
   "cell_type": "code",
   "execution_count": 81,
   "metadata": {
    "id": "XvcP3FxpAyws"
   },
   "outputs": [
    {
     "data": {
      "text/html": [
       "<div>\n",
       "<style scoped>\n",
       "    .dataframe tbody tr th:only-of-type {\n",
       "        vertical-align: middle;\n",
       "    }\n",
       "\n",
       "    .dataframe tbody tr th {\n",
       "        vertical-align: top;\n",
       "    }\n",
       "\n",
       "    .dataframe thead th {\n",
       "        text-align: right;\n",
       "    }\n",
       "</style>\n",
       "<table border=\"1\" class=\"dataframe\">\n",
       "  <thead>\n",
       "    <tr style=\"text-align: right;\">\n",
       "      <th></th>\n",
       "      <th>label</th>\n",
       "      <th>label2</th>\n",
       "    </tr>\n",
       "  </thead>\n",
       "  <tbody>\n",
       "    <tr>\n",
       "      <th>0</th>\n",
       "      <td>retained</td>\n",
       "      <td>0</td>\n",
       "    </tr>\n",
       "    <tr>\n",
       "      <th>1</th>\n",
       "      <td>retained</td>\n",
       "      <td>0</td>\n",
       "    </tr>\n",
       "    <tr>\n",
       "      <th>2</th>\n",
       "      <td>retained</td>\n",
       "      <td>0</td>\n",
       "    </tr>\n",
       "    <tr>\n",
       "      <th>3</th>\n",
       "      <td>retained</td>\n",
       "      <td>0</td>\n",
       "    </tr>\n",
       "    <tr>\n",
       "      <th>4</th>\n",
       "      <td>retained</td>\n",
       "      <td>0</td>\n",
       "    </tr>\n",
       "    <tr>\n",
       "      <th>5</th>\n",
       "      <td>retained</td>\n",
       "      <td>0</td>\n",
       "    </tr>\n",
       "    <tr>\n",
       "      <th>6</th>\n",
       "      <td>retained</td>\n",
       "      <td>0</td>\n",
       "    </tr>\n",
       "    <tr>\n",
       "      <th>7</th>\n",
       "      <td>retained</td>\n",
       "      <td>0</td>\n",
       "    </tr>\n",
       "    <tr>\n",
       "      <th>8</th>\n",
       "      <td>retained</td>\n",
       "      <td>0</td>\n",
       "    </tr>\n",
       "    <tr>\n",
       "      <th>9</th>\n",
       "      <td>churned</td>\n",
       "      <td>1</td>\n",
       "    </tr>\n",
       "  </tbody>\n",
       "</table>\n",
       "</div>"
      ],
      "text/plain": [
       "      label  label2\n",
       "0  retained       0\n",
       "1  retained       0\n",
       "2  retained       0\n",
       "3  retained       0\n",
       "4  retained       0\n",
       "5  retained       0\n",
       "6  retained       0\n",
       "7  retained       0\n",
       "8  retained       0\n",
       "9   churned       1"
      ]
     },
     "execution_count": 81,
     "metadata": {},
     "output_type": "execute_result"
    }
   ],
   "source": [
    "# Create binary `label2` column\n",
    "df[\"label2\"] = np.where(df[\"label\"] == \"retained\",0,1)\n",
    "df.label2.value_counts()\n",
    "df[[\"label\", \"label2\"]].head(10)"
   ]
  },
  {
   "cell_type": "markdown",
   "metadata": {
    "id": "HMj6QkK1cLmS"
   },
   "source": [
    "### **Task 3b. Determine whether assumptions have been met**\n",
    "\n",
    "The following are the assumptions for logistic regression:\n",
    "\n",
    "* Independent observations (This refers to how the data was collected.)\n",
    "\n",
    "* No extreme outliers\n",
    "\n",
    "* Little to no multicollinearity among X predictors\n",
    "\n",
    "* Linear relationship between X and the **logit** of y\n",
    "\n",
    "For the first assumption, you can assume that observations are independent for this project.\n",
    "\n",
    "The second assumption has already been addressed.\n",
    "\n",
    "The last assumption will be verified after modeling.\n",
    "\n",
    "**Note:** In practice, modeling assumptions are often violated, and depending on the specifics of your use case and the severity of the violation, it might not affect your model much at all or it will result in a failed model."
   ]
  },
  {
   "cell_type": "markdown",
   "metadata": {
    "id": "2VByuTmwdoi_"
   },
   "source": [
    "#### **Collinearity**\n",
    "\n",
    "Check the correlation among predictor variables. First, generate a correlation matrix."
   ]
  },
  {
   "cell_type": "code",
   "execution_count": 20,
   "metadata": {
    "id": "SClNm5hWotj6"
   },
   "outputs": [
    {
     "data": {
      "text/html": [
       "<div>\n",
       "<style scoped>\n",
       "    .dataframe tbody tr th:only-of-type {\n",
       "        vertical-align: middle;\n",
       "    }\n",
       "\n",
       "    .dataframe tbody tr th {\n",
       "        vertical-align: top;\n",
       "    }\n",
       "\n",
       "    .dataframe thead th {\n",
       "        text-align: right;\n",
       "    }\n",
       "</style>\n",
       "<table border=\"1\" class=\"dataframe\">\n",
       "  <thead>\n",
       "    <tr style=\"text-align: right;\">\n",
       "      <th></th>\n",
       "      <th>sessions</th>\n",
       "      <th>drives</th>\n",
       "      <th>total_sessions</th>\n",
       "      <th>n_days_after_onboarding</th>\n",
       "      <th>total_navigations_fav1</th>\n",
       "      <th>total_navigations_fav2</th>\n",
       "      <th>driven_km_drives</th>\n",
       "      <th>duration_minutes_drives</th>\n",
       "      <th>activity_days</th>\n",
       "      <th>driving_days</th>\n",
       "      <th>km_per_driving_day</th>\n",
       "      <th>professional_driver</th>\n",
       "      <th>label2</th>\n",
       "    </tr>\n",
       "  </thead>\n",
       "  <tbody>\n",
       "    <tr>\n",
       "      <th>sessions</th>\n",
       "      <td>1.000000</td>\n",
       "      <td>0.996942</td>\n",
       "      <td>0.597190</td>\n",
       "      <td>0.007101</td>\n",
       "      <td>0.001858</td>\n",
       "      <td>0.008536</td>\n",
       "      <td>0.002996</td>\n",
       "      <td>-0.004545</td>\n",
       "      <td>0.025113</td>\n",
       "      <td>0.020294</td>\n",
       "      <td>-0.011569</td>\n",
       "      <td>0.420843</td>\n",
       "      <td>0.034911</td>\n",
       "    </tr>\n",
       "    <tr>\n",
       "      <th>drives</th>\n",
       "      <td>0.996942</td>\n",
       "      <td>1.000000</td>\n",
       "      <td>0.595286</td>\n",
       "      <td>0.006940</td>\n",
       "      <td>0.001058</td>\n",
       "      <td>0.009505</td>\n",
       "      <td>0.003445</td>\n",
       "      <td>-0.003889</td>\n",
       "      <td>0.024357</td>\n",
       "      <td>0.019608</td>\n",
       "      <td>-0.010989</td>\n",
       "      <td>0.421632</td>\n",
       "      <td>0.035865</td>\n",
       "    </tr>\n",
       "    <tr>\n",
       "      <th>total_sessions</th>\n",
       "      <td>0.597190</td>\n",
       "      <td>0.595286</td>\n",
       "      <td>1.000000</td>\n",
       "      <td>0.006596</td>\n",
       "      <td>0.000187</td>\n",
       "      <td>0.010371</td>\n",
       "      <td>0.001016</td>\n",
       "      <td>-0.000338</td>\n",
       "      <td>0.015755</td>\n",
       "      <td>0.012953</td>\n",
       "      <td>-0.016167</td>\n",
       "      <td>0.240446</td>\n",
       "      <td>0.024568</td>\n",
       "    </tr>\n",
       "    <tr>\n",
       "      <th>n_days_after_onboarding</th>\n",
       "      <td>0.007101</td>\n",
       "      <td>0.006940</td>\n",
       "      <td>0.006596</td>\n",
       "      <td>1.000000</td>\n",
       "      <td>-0.002450</td>\n",
       "      <td>-0.004968</td>\n",
       "      <td>-0.004652</td>\n",
       "      <td>-0.010167</td>\n",
       "      <td>-0.009418</td>\n",
       "      <td>-0.007321</td>\n",
       "      <td>0.011764</td>\n",
       "      <td>0.003754</td>\n",
       "      <td>-0.129263</td>\n",
       "    </tr>\n",
       "    <tr>\n",
       "      <th>total_navigations_fav1</th>\n",
       "      <td>0.001858</td>\n",
       "      <td>0.001058</td>\n",
       "      <td>0.000187</td>\n",
       "      <td>-0.002450</td>\n",
       "      <td>1.000000</td>\n",
       "      <td>0.002866</td>\n",
       "      <td>-0.007368</td>\n",
       "      <td>0.005646</td>\n",
       "      <td>0.010902</td>\n",
       "      <td>0.010419</td>\n",
       "      <td>-0.000197</td>\n",
       "      <td>0.004272</td>\n",
       "      <td>0.052322</td>\n",
       "    </tr>\n",
       "    <tr>\n",
       "      <th>total_navigations_fav2</th>\n",
       "      <td>0.008536</td>\n",
       "      <td>0.009505</td>\n",
       "      <td>0.010371</td>\n",
       "      <td>-0.004968</td>\n",
       "      <td>0.002866</td>\n",
       "      <td>1.000000</td>\n",
       "      <td>0.003559</td>\n",
       "      <td>-0.003009</td>\n",
       "      <td>-0.004425</td>\n",
       "      <td>0.002000</td>\n",
       "      <td>0.006751</td>\n",
       "      <td>0.007999</td>\n",
       "      <td>0.015032</td>\n",
       "    </tr>\n",
       "    <tr>\n",
       "      <th>driven_km_drives</th>\n",
       "      <td>0.002996</td>\n",
       "      <td>0.003445</td>\n",
       "      <td>0.001016</td>\n",
       "      <td>-0.004652</td>\n",
       "      <td>-0.007368</td>\n",
       "      <td>0.003559</td>\n",
       "      <td>1.000000</td>\n",
       "      <td>0.690514</td>\n",
       "      <td>-0.007441</td>\n",
       "      <td>-0.009549</td>\n",
       "      <td>0.344811</td>\n",
       "      <td>-0.003146</td>\n",
       "      <td>0.019767</td>\n",
       "    </tr>\n",
       "    <tr>\n",
       "      <th>duration_minutes_drives</th>\n",
       "      <td>-0.004545</td>\n",
       "      <td>-0.003889</td>\n",
       "      <td>-0.000338</td>\n",
       "      <td>-0.010167</td>\n",
       "      <td>0.005646</td>\n",
       "      <td>-0.003009</td>\n",
       "      <td>0.690514</td>\n",
       "      <td>1.000000</td>\n",
       "      <td>-0.007895</td>\n",
       "      <td>-0.009426</td>\n",
       "      <td>0.239627</td>\n",
       "      <td>-0.012089</td>\n",
       "      <td>0.040407</td>\n",
       "    </tr>\n",
       "    <tr>\n",
       "      <th>activity_days</th>\n",
       "      <td>0.025113</td>\n",
       "      <td>0.024357</td>\n",
       "      <td>0.015755</td>\n",
       "      <td>-0.009418</td>\n",
       "      <td>0.010902</td>\n",
       "      <td>-0.004425</td>\n",
       "      <td>-0.007441</td>\n",
       "      <td>-0.007895</td>\n",
       "      <td>1.000000</td>\n",
       "      <td>0.947687</td>\n",
       "      <td>-0.397433</td>\n",
       "      <td>0.453129</td>\n",
       "      <td>-0.303851</td>\n",
       "    </tr>\n",
       "    <tr>\n",
       "      <th>driving_days</th>\n",
       "      <td>0.020294</td>\n",
       "      <td>0.019608</td>\n",
       "      <td>0.012953</td>\n",
       "      <td>-0.007321</td>\n",
       "      <td>0.010419</td>\n",
       "      <td>0.002000</td>\n",
       "      <td>-0.009549</td>\n",
       "      <td>-0.009426</td>\n",
       "      <td>0.947687</td>\n",
       "      <td>1.000000</td>\n",
       "      <td>-0.407917</td>\n",
       "      <td>0.472120</td>\n",
       "      <td>-0.294259</td>\n",
       "    </tr>\n",
       "    <tr>\n",
       "      <th>km_per_driving_day</th>\n",
       "      <td>-0.011569</td>\n",
       "      <td>-0.010989</td>\n",
       "      <td>-0.016167</td>\n",
       "      <td>0.011764</td>\n",
       "      <td>-0.000197</td>\n",
       "      <td>0.006751</td>\n",
       "      <td>0.344811</td>\n",
       "      <td>0.239627</td>\n",
       "      <td>-0.397433</td>\n",
       "      <td>-0.407917</td>\n",
       "      <td>1.000000</td>\n",
       "      <td>-0.160326</td>\n",
       "      <td>0.148583</td>\n",
       "    </tr>\n",
       "    <tr>\n",
       "      <th>professional_driver</th>\n",
       "      <td>0.420843</td>\n",
       "      <td>0.421632</td>\n",
       "      <td>0.240446</td>\n",
       "      <td>0.003754</td>\n",
       "      <td>0.004272</td>\n",
       "      <td>0.007999</td>\n",
       "      <td>-0.003146</td>\n",
       "      <td>-0.012089</td>\n",
       "      <td>0.453129</td>\n",
       "      <td>0.472120</td>\n",
       "      <td>-0.160326</td>\n",
       "      <td>1.000000</td>\n",
       "      <td>-0.121981</td>\n",
       "    </tr>\n",
       "    <tr>\n",
       "      <th>label2</th>\n",
       "      <td>0.034911</td>\n",
       "      <td>0.035865</td>\n",
       "      <td>0.024568</td>\n",
       "      <td>-0.129263</td>\n",
       "      <td>0.052322</td>\n",
       "      <td>0.015032</td>\n",
       "      <td>0.019767</td>\n",
       "      <td>0.040407</td>\n",
       "      <td>-0.303851</td>\n",
       "      <td>-0.294259</td>\n",
       "      <td>0.148583</td>\n",
       "      <td>-0.121981</td>\n",
       "      <td>1.000000</td>\n",
       "    </tr>\n",
       "  </tbody>\n",
       "</table>\n",
       "</div>"
      ],
      "text/plain": [
       "                         sessions    drives  total_sessions  \\\n",
       "sessions                 1.000000  0.996942        0.597190   \n",
       "drives                   0.996942  1.000000        0.595286   \n",
       "total_sessions           0.597190  0.595286        1.000000   \n",
       "n_days_after_onboarding  0.007101  0.006940        0.006596   \n",
       "total_navigations_fav1   0.001858  0.001058        0.000187   \n",
       "total_navigations_fav2   0.008536  0.009505        0.010371   \n",
       "driven_km_drives         0.002996  0.003445        0.001016   \n",
       "duration_minutes_drives -0.004545 -0.003889       -0.000338   \n",
       "activity_days            0.025113  0.024357        0.015755   \n",
       "driving_days             0.020294  0.019608        0.012953   \n",
       "km_per_driving_day      -0.011569 -0.010989       -0.016167   \n",
       "professional_driver      0.420843  0.421632        0.240446   \n",
       "label2                   0.034911  0.035865        0.024568   \n",
       "\n",
       "                         n_days_after_onboarding  total_navigations_fav1  \\\n",
       "sessions                                0.007101                0.001858   \n",
       "drives                                  0.006940                0.001058   \n",
       "total_sessions                          0.006596                0.000187   \n",
       "n_days_after_onboarding                 1.000000               -0.002450   \n",
       "total_navigations_fav1                 -0.002450                1.000000   \n",
       "total_navigations_fav2                 -0.004968                0.002866   \n",
       "driven_km_drives                       -0.004652               -0.007368   \n",
       "duration_minutes_drives                -0.010167                0.005646   \n",
       "activity_days                          -0.009418                0.010902   \n",
       "driving_days                           -0.007321                0.010419   \n",
       "km_per_driving_day                      0.011764               -0.000197   \n",
       "professional_driver                     0.003754                0.004272   \n",
       "label2                                 -0.129263                0.052322   \n",
       "\n",
       "                         total_navigations_fav2  driven_km_drives  \\\n",
       "sessions                               0.008536          0.002996   \n",
       "drives                                 0.009505          0.003445   \n",
       "total_sessions                         0.010371          0.001016   \n",
       "n_days_after_onboarding               -0.004968         -0.004652   \n",
       "total_navigations_fav1                 0.002866         -0.007368   \n",
       "total_navigations_fav2                 1.000000          0.003559   \n",
       "driven_km_drives                       0.003559          1.000000   \n",
       "duration_minutes_drives               -0.003009          0.690514   \n",
       "activity_days                         -0.004425         -0.007441   \n",
       "driving_days                           0.002000         -0.009549   \n",
       "km_per_driving_day                     0.006751          0.344811   \n",
       "professional_driver                    0.007999         -0.003146   \n",
       "label2                                 0.015032          0.019767   \n",
       "\n",
       "                         duration_minutes_drives  activity_days  driving_days  \\\n",
       "sessions                               -0.004545       0.025113      0.020294   \n",
       "drives                                 -0.003889       0.024357      0.019608   \n",
       "total_sessions                         -0.000338       0.015755      0.012953   \n",
       "n_days_after_onboarding                -0.010167      -0.009418     -0.007321   \n",
       "total_navigations_fav1                  0.005646       0.010902      0.010419   \n",
       "total_navigations_fav2                 -0.003009      -0.004425      0.002000   \n",
       "driven_km_drives                        0.690514      -0.007441     -0.009549   \n",
       "duration_minutes_drives                 1.000000      -0.007895     -0.009426   \n",
       "activity_days                          -0.007895       1.000000      0.947687   \n",
       "driving_days                           -0.009426       0.947687      1.000000   \n",
       "km_per_driving_day                      0.239627      -0.397433     -0.407917   \n",
       "professional_driver                    -0.012089       0.453129      0.472120   \n",
       "label2                                  0.040407      -0.303851     -0.294259   \n",
       "\n",
       "                         km_per_driving_day  professional_driver    label2  \n",
       "sessions                          -0.011569             0.420843  0.034911  \n",
       "drives                            -0.010989             0.421632  0.035865  \n",
       "total_sessions                    -0.016167             0.240446  0.024568  \n",
       "n_days_after_onboarding            0.011764             0.003754 -0.129263  \n",
       "total_navigations_fav1            -0.000197             0.004272  0.052322  \n",
       "total_navigations_fav2             0.006751             0.007999  0.015032  \n",
       "driven_km_drives                   0.344811            -0.003146  0.019767  \n",
       "duration_minutes_drives            0.239627            -0.012089  0.040407  \n",
       "activity_days                     -0.397433             0.453129 -0.303851  \n",
       "driving_days                      -0.407917             0.472120 -0.294259  \n",
       "km_per_driving_day                 1.000000            -0.160326  0.148583  \n",
       "professional_driver               -0.160326             1.000000 -0.121981  \n",
       "label2                             0.148583            -0.121981  1.000000  "
      ]
     },
     "execution_count": 20,
     "metadata": {},
     "output_type": "execute_result"
    }
   ],
   "source": [
    "# Generate a correlation matrix\n",
    "df.corr()"
   ]
  },
  {
   "cell_type": "markdown",
   "metadata": {
    "id": "maeFcfOMfi1V"
   },
   "source": [
    "Now, plot a correlation heatmap."
   ]
  },
  {
   "cell_type": "code",
   "execution_count": 21,
   "metadata": {
    "id": "5HVnvWmXrOCO"
   },
   "outputs": [
    {
     "data": {
      "text/plain": [
       "<matplotlib.axes._subplots.AxesSubplot at 0x7f433120f590>"
      ]
     },
     "execution_count": 21,
     "metadata": {},
     "output_type": "execute_result"
    },
    {
     "data": {
      "image/png": "[encoded data removed]",
      "text/plain": [
       "<Figure size 432x288 with 2 Axes>"
      ]
     },
     "metadata": {
      "needs_background": "light"
     },
     "output_type": "display_data"
    }
   ],
   "source": [
    "# Plot correlation heatmap\n",
    "sns.heatmap(df.corr())"
   ]
  },
  {
   "cell_type": "markdown",
   "metadata": {
    "id": "5wvq6jl6BqBX"
   },
   "source": [
    "If there are predictor variables that have a Pearson correlation coefficient value greater than the **absolute value of 0.7**, these variables are strongly multicollinear. Therefore, only one of these variables should be used in your model.\n",
    "\n",
    "**Note:** 0.7 is an arbitrary threshold. Some industries may use 0.6, 0.8, etc.\n",
    "\n",
    "**Question:** Which variables are multicollinear with each other?"
   ]
  },
  {
   "cell_type": "markdown",
   "metadata": {
    "id": "EfkKRuFSgmiI"
   },
   "source": [
    "To no surprise sessions and drives are highly correlate because to start a drive you need to first start the session. Also activity days and driving days for the same reason. It is worth noting that duration in minutes has correlation coefficient of around 0.69 with driven kms it is beacause it is implicitly correlated - the longer drives take longer time(minutes) to complete, however in this context some users may still use the app while they are not driving or moving so the correlation is not strong as it should be."
   ]
  },
  {
   "cell_type": "markdown",
   "metadata": {
    "id": "o3ArC_5xa7Oi"
   },
   "source": [
    "### **Task 3c. Create dummies (if necessary)**\n",
    "\n",
    "If you have selected `device` as an X variable, you will need to create dummy variables since this variable is categorical.\n",
    "\n",
    "In cases with many categorical variables, you can use pandas built-in [`pd.get_dummies()`](https://pandas.pydata.org/docs/reference/api/pandas.get_dummies.html), or you can use scikit-learn's [`OneHotEncoder()`](https://scikit-learn.org/stable/modules/generated/sklearn.preprocessing.OneHotEncoder.html) function.\n",
    "\n",
    "**Note:** Variables with many categories should only be dummied if absolutely necessary. Each category will result in a coefficient for your model which can lead to overfitting.\n",
    "\n",
    "Because this dataset only has one remaining categorical feature (`device`), it's not necessary to use one of these special functions. You can just implement the transformation directly.\n",
    "\n",
    "Create a new, binary column called `device2` that encodes user devices as follows:\n",
    "\n",
    "* `Android` -> `0`\n",
    "* `iPhone` -> `1`"
   ]
  },
  {
   "cell_type": "code",
   "execution_count": 22,
   "metadata": {
    "id": "QvDpwcQm0f35"
   },
   "outputs": [
    {
     "data": {
      "text/html": [
       "<div>\n",
       "<style scoped>\n",
       "    .dataframe tbody tr th:only-of-type {\n",
       "        vertical-align: middle;\n",
       "    }\n",
       "\n",
       "    .dataframe tbody tr th {\n",
       "        vertical-align: top;\n",
       "    }\n",
       "\n",
       "    .dataframe thead th {\n",
       "        text-align: right;\n",
       "    }\n",
       "</style>\n",
       "<table border=\"1\" class=\"dataframe\">\n",
       "  <thead>\n",
       "    <tr style=\"text-align: right;\">\n",
       "      <th></th>\n",
       "      <th>label</th>\n",
       "      <th>sessions</th>\n",
       "      <th>drives</th>\n",
       "      <th>total_sessions</th>\n",
       "      <th>n_days_after_onboarding</th>\n",
       "      <th>total_navigations_fav1</th>\n",
       "      <th>total_navigations_fav2</th>\n",
       "      <th>driven_km_drives</th>\n",
       "      <th>duration_minutes_drives</th>\n",
       "      <th>activity_days</th>\n",
       "      <th>driving_days</th>\n",
       "      <th>device</th>\n",
       "      <th>km_per_driving_day</th>\n",
       "      <th>professional_driver</th>\n",
       "      <th>label2</th>\n",
       "      <th>device2</th>\n",
       "    </tr>\n",
       "  </thead>\n",
       "  <tbody>\n",
       "    <tr>\n",
       "      <th>0</th>\n",
       "      <td>retained</td>\n",
       "      <td>243.0</td>\n",
       "      <td>200.0</td>\n",
       "      <td>296.748273</td>\n",
       "      <td>2276</td>\n",
       "      <td>208.0</td>\n",
       "      <td>0.0</td>\n",
       "      <td>2628.845068</td>\n",
       "      <td>1985.775061</td>\n",
       "      <td>28</td>\n",
       "      <td>19</td>\n",
       "      <td>Android</td>\n",
       "      <td>138.360267</td>\n",
       "      <td>1</td>\n",
       "      <td>0</td>\n",
       "      <td>0</td>\n",
       "    </tr>\n",
       "    <tr>\n",
       "      <th>1</th>\n",
       "      <td>retained</td>\n",
       "      <td>133.0</td>\n",
       "      <td>107.0</td>\n",
       "      <td>326.896596</td>\n",
       "      <td>1225</td>\n",
       "      <td>19.0</td>\n",
       "      <td>64.0</td>\n",
       "      <td>8898.673443</td>\n",
       "      <td>3160.472914</td>\n",
       "      <td>13</td>\n",
       "      <td>11</td>\n",
       "      <td>iPhone</td>\n",
       "      <td>1246.901868</td>\n",
       "      <td>0</td>\n",
       "      <td>0</td>\n",
       "      <td>1</td>\n",
       "    </tr>\n",
       "    <tr>\n",
       "      <th>2</th>\n",
       "      <td>retained</td>\n",
       "      <td>114.0</td>\n",
       "      <td>95.0</td>\n",
       "      <td>135.522926</td>\n",
       "      <td>2651</td>\n",
       "      <td>0.0</td>\n",
       "      <td>0.0</td>\n",
       "      <td>3059.148818</td>\n",
       "      <td>1610.735904</td>\n",
       "      <td>14</td>\n",
       "      <td>8</td>\n",
       "      <td>Android</td>\n",
       "      <td>382.393602</td>\n",
       "      <td>0</td>\n",
       "      <td>0</td>\n",
       "      <td>0</td>\n",
       "    </tr>\n",
       "    <tr>\n",
       "      <th>3</th>\n",
       "      <td>retained</td>\n",
       "      <td>49.0</td>\n",
       "      <td>40.0</td>\n",
       "      <td>67.589221</td>\n",
       "      <td>15</td>\n",
       "      <td>322.0</td>\n",
       "      <td>7.0</td>\n",
       "      <td>913.591123</td>\n",
       "      <td>587.196542</td>\n",
       "      <td>7</td>\n",
       "      <td>3</td>\n",
       "      <td>iPhone</td>\n",
       "      <td>304.530374</td>\n",
       "      <td>0</td>\n",
       "      <td>0</td>\n",
       "      <td>1</td>\n",
       "    </tr>\n",
       "    <tr>\n",
       "      <th>4</th>\n",
       "      <td>retained</td>\n",
       "      <td>84.0</td>\n",
       "      <td>68.0</td>\n",
       "      <td>168.247020</td>\n",
       "      <td>1562</td>\n",
       "      <td>166.0</td>\n",
       "      <td>5.0</td>\n",
       "      <td>3950.202008</td>\n",
       "      <td>1219.555924</td>\n",
       "      <td>27</td>\n",
       "      <td>18</td>\n",
       "      <td>Android</td>\n",
       "      <td>219.455667</td>\n",
       "      <td>1</td>\n",
       "      <td>0</td>\n",
       "      <td>0</td>\n",
       "    </tr>\n",
       "  </tbody>\n",
       "</table>\n",
       "</div>"
      ],
      "text/plain": [
       "      label  sessions  drives  total_sessions  n_days_after_onboarding  \\\n",
       "0  retained     243.0   200.0      296.748273                     2276   \n",
       "1  retained     133.0   107.0      326.896596                     1225   \n",
       "2  retained     114.0    95.0      135.522926                     2651   \n",
       "3  retained      49.0    40.0       67.589221                       15   \n",
       "4  retained      84.0    68.0      168.247020                     1562   \n",
       "\n",
       "   total_navigations_fav1  total_navigations_fav2  driven_km_drives  \\\n",
       "0                   208.0                     0.0       2628.845068   \n",
       "1                    19.0                    64.0       8898.673443   \n",
       "2                     0.0                     0.0       3059.148818   \n",
       "3                   322.0                     7.0        913.591123   \n",
       "4                   166.0                     5.0       3950.202008   \n",
       "\n",
       "   duration_minutes_drives  activity_days  driving_days   device  \\\n",
       "0              1985.775061             28            19  Android   \n",
       "1              3160.472914             13            11   iPhone   \n",
       "2              1610.735904             14             8  Android   \n",
       "3               587.196542              7             3   iPhone   \n",
       "4              1219.555924             27            18  Android   \n",
       "\n",
       "   km_per_driving_day  professional_driver  label2  device2  \n",
       "0          138.360267                    1       0        0  \n",
       "1         1246.901868                    0       0        1  \n",
       "2          382.393602                    0       0        0  \n",
       "3          304.530374                    0       0        1  \n",
       "4          219.455667                    1       0        0  "
      ]
     },
     "execution_count": 22,
     "metadata": {},
     "output_type": "execute_result"
    }
   ],
   "source": [
    "# Create new `device2` variable\n",
    "df[\"device2\"] = np.where(df[\"device\"] == \"iPhone\",1,0)\n",
    "df.head()"
   ]
  },
  {
   "cell_type": "markdown",
   "metadata": {
    "id": "iDYyjWssbnBG"
   },
   "source": [
    "### **Task 3d. Model building**"
   ]
  },
  {
   "cell_type": "markdown",
   "metadata": {
    "id": "TvmcjB19Cpw-"
   },
   "source": [
    "#### **Assign predictor variables and target**\n",
    "\n",
    "To build your model you need to determine what X variables you want to include in your model to predict your target&mdash;`label2`.\n",
    "\n",
    "Drop the following variables and assign the results to `X`:\n",
    "\n",
    "* `label` (this is the target)\n",
    "* `label2` (this is the target)\n",
    "* `device` (this is the non-binary-encoded categorical variable)\n",
    "* `sessions` (this had high multicollinearity)\n",
    "* `driving_days` (this had high multicollinearity)\n",
    "\n",
    "**Note:** Notice that `sessions` and `driving_days` were selected to be dropped, rather than `drives` and `activity_days`. The reason for this is that the features that were kept for modeling had slightly stronger correlations with the target variable than the features that were dropped."
   ]
  },
  {
   "cell_type": "code",
   "execution_count": 23,
   "metadata": {
    "id": "AzcDgLRET4d7"
   },
   "outputs": [
    {
     "data": {
      "text/html": [
       "<div>\n",
       "<style scoped>\n",
       "    .dataframe tbody tr th:only-of-type {\n",
       "        vertical-align: middle;\n",
       "    }\n",
       "\n",
       "    .dataframe tbody tr th {\n",
       "        vertical-align: top;\n",
       "    }\n",
       "\n",
       "    .dataframe thead th {\n",
       "        text-align: right;\n",
       "    }\n",
       "</style>\n",
       "<table border=\"1\" class=\"dataframe\">\n",
       "  <thead>\n",
       "    <tr style=\"text-align: right;\">\n",
       "      <th></th>\n",
       "      <th>drives</th>\n",
       "      <th>total_sessions</th>\n",
       "      <th>n_days_after_onboarding</th>\n",
       "      <th>total_navigations_fav1</th>\n",
       "      <th>total_navigations_fav2</th>\n",
       "      <th>driven_km_drives</th>\n",
       "      <th>duration_minutes_drives</th>\n",
       "      <th>activity_days</th>\n",
       "      <th>km_per_driving_day</th>\n",
       "      <th>professional_driver</th>\n",
       "      <th>device2</th>\n",
       "    </tr>\n",
       "  </thead>\n",
       "  <tbody>\n",
       "    <tr>\n",
       "      <th>0</th>\n",
       "      <td>200.0</td>\n",
       "      <td>296.748273</td>\n",
       "      <td>2276</td>\n",
       "      <td>208.0</td>\n",
       "      <td>0.0</td>\n",
       "      <td>2628.845068</td>\n",
       "      <td>1985.775061</td>\n",
       "      <td>28</td>\n",
       "      <td>138.360267</td>\n",
       "      <td>1</td>\n",
       "      <td>0</td>\n",
       "    </tr>\n",
       "    <tr>\n",
       "      <th>1</th>\n",
       "      <td>107.0</td>\n",
       "      <td>326.896596</td>\n",
       "      <td>1225</td>\n",
       "      <td>19.0</td>\n",
       "      <td>64.0</td>\n",
       "      <td>8898.673443</td>\n",
       "      <td>3160.472914</td>\n",
       "      <td>13</td>\n",
       "      <td>1246.901868</td>\n",
       "      <td>0</td>\n",
       "      <td>1</td>\n",
       "    </tr>\n",
       "    <tr>\n",
       "      <th>2</th>\n",
       "      <td>95.0</td>\n",
       "      <td>135.522926</td>\n",
       "      <td>2651</td>\n",
       "      <td>0.0</td>\n",
       "      <td>0.0</td>\n",
       "      <td>3059.148818</td>\n",
       "      <td>1610.735904</td>\n",
       "      <td>14</td>\n",
       "      <td>382.393602</td>\n",
       "      <td>0</td>\n",
       "      <td>0</td>\n",
       "    </tr>\n",
       "    <tr>\n",
       "      <th>3</th>\n",
       "      <td>40.0</td>\n",
       "      <td>67.589221</td>\n",
       "      <td>15</td>\n",
       "      <td>322.0</td>\n",
       "      <td>7.0</td>\n",
       "      <td>913.591123</td>\n",
       "      <td>587.196542</td>\n",
       "      <td>7</td>\n",
       "      <td>304.530374</td>\n",
       "      <td>0</td>\n",
       "      <td>1</td>\n",
       "    </tr>\n",
       "    <tr>\n",
       "      <th>4</th>\n",
       "      <td>68.0</td>\n",
       "      <td>168.247020</td>\n",
       "      <td>1562</td>\n",
       "      <td>166.0</td>\n",
       "      <td>5.0</td>\n",
       "      <td>3950.202008</td>\n",
       "      <td>1219.555924</td>\n",
       "      <td>27</td>\n",
       "      <td>219.455667</td>\n",
       "      <td>1</td>\n",
       "      <td>0</td>\n",
       "    </tr>\n",
       "    <tr>\n",
       "      <th>...</th>\n",
       "      <td>...</td>\n",
       "      <td>...</td>\n",
       "      <td>...</td>\n",
       "      <td>...</td>\n",
       "      <td>...</td>\n",
       "      <td>...</td>\n",
       "      <td>...</td>\n",
       "      <td>...</td>\n",
       "      <td>...</td>\n",
       "      <td>...</td>\n",
       "      <td>...</td>\n",
       "    </tr>\n",
       "    <tr>\n",
       "      <th>14294</th>\n",
       "      <td>55.0</td>\n",
       "      <td>207.875622</td>\n",
       "      <td>140</td>\n",
       "      <td>317.0</td>\n",
       "      <td>0.0</td>\n",
       "      <td>2890.496901</td>\n",
       "      <td>2186.155708</td>\n",
       "      <td>25</td>\n",
       "      <td>170.029229</td>\n",
       "      <td>0</td>\n",
       "      <td>1</td>\n",
       "    </tr>\n",
       "    <tr>\n",
       "      <th>14295</th>\n",
       "      <td>35.0</td>\n",
       "      <td>187.670313</td>\n",
       "      <td>2505</td>\n",
       "      <td>15.0</td>\n",
       "      <td>10.0</td>\n",
       "      <td>4062.575194</td>\n",
       "      <td>1208.583193</td>\n",
       "      <td>25</td>\n",
       "      <td>203.128760</td>\n",
       "      <td>0</td>\n",
       "      <td>0</td>\n",
       "    </tr>\n",
       "    <tr>\n",
       "      <th>14296</th>\n",
       "      <td>200.0</td>\n",
       "      <td>422.017241</td>\n",
       "      <td>1873</td>\n",
       "      <td>17.0</td>\n",
       "      <td>0.0</td>\n",
       "      <td>3097.825028</td>\n",
       "      <td>1031.278706</td>\n",
       "      <td>18</td>\n",
       "      <td>182.225002</td>\n",
       "      <td>1</td>\n",
       "      <td>1</td>\n",
       "    </tr>\n",
       "    <tr>\n",
       "      <th>14297</th>\n",
       "      <td>120.0</td>\n",
       "      <td>180.524184</td>\n",
       "      <td>3150</td>\n",
       "      <td>45.0</td>\n",
       "      <td>0.0</td>\n",
       "      <td>4051.758549</td>\n",
       "      <td>254.187763</td>\n",
       "      <td>6</td>\n",
       "      <td>675.293092</td>\n",
       "      <td>0</td>\n",
       "      <td>1</td>\n",
       "    </tr>\n",
       "    <tr>\n",
       "      <th>14298</th>\n",
       "      <td>58.0</td>\n",
       "      <td>353.419797</td>\n",
       "      <td>3383</td>\n",
       "      <td>13.0</td>\n",
       "      <td>51.0</td>\n",
       "      <td>6030.498773</td>\n",
       "      <td>3042.436423</td>\n",
       "      <td>14</td>\n",
       "      <td>463.884521</td>\n",
       "      <td>0</td>\n",
       "      <td>1</td>\n",
       "    </tr>\n",
       "  </tbody>\n",
       "</table>\n",
       "<p>14299 rows × 11 columns</p>\n",
       "</div>"
      ],
      "text/plain": [
       "       drives  total_sessions  n_days_after_onboarding  \\\n",
       "0       200.0      296.748273                     2276   \n",
       "1       107.0      326.896596                     1225   \n",
       "2        95.0      135.522926                     2651   \n",
       "3        40.0       67.589221                       15   \n",
       "4        68.0      168.247020                     1562   \n",
       "...       ...             ...                      ...   \n",
       "14294    55.0      207.875622                      140   \n",
       "14295    35.0      187.670313                     2505   \n",
       "14296   200.0      422.017241                     1873   \n",
       "14297   120.0      180.524184                     3150   \n",
       "14298    58.0      353.419797                     3383   \n",
       "\n",
       "       total_navigations_fav1  total_navigations_fav2  driven_km_drives  \\\n",
       "0                       208.0                     0.0       2628.845068   \n",
       "1                        19.0                    64.0       8898.673443   \n",
       "2                         0.0                     0.0       3059.148818   \n",
       "3                       322.0                     7.0        913.591123   \n",
       "4                       166.0                     5.0       3950.202008   \n",
       "...                       ...                     ...               ...   \n",
       "14294                   317.0                     0.0       2890.496901   \n",
       "14295                    15.0                    10.0       4062.575194   \n",
       "14296                    17.0                     0.0       3097.825028   \n",
       "14297                    45.0                     0.0       4051.758549   \n",
       "14298                    13.0                    51.0       6030.498773   \n",
       "\n",
       "       duration_minutes_drives  activity_days  km_per_driving_day  \\\n",
       "0                  1985.775061             28          138.360267   \n",
       "1                  3160.472914             13         1246.901868   \n",
       "2                  1610.735904             14          382.393602   \n",
       "3                   587.196542              7          304.530374   \n",
       "4                  1219.555924             27          219.455667   \n",
       "...                        ...            ...                 ...   \n",
       "14294              2186.155708             25          170.029229   \n",
       "14295              1208.583193             25          203.128760   \n",
       "14296              1031.278706             18          182.225002   \n",
       "14297               254.187763              6          675.293092   \n",
       "14298              3042.436423             14          463.884521   \n",
       "\n",
       "       professional_driver  device2  \n",
       "0                        1        0  \n",
       "1                        0        1  \n",
       "2                        0        0  \n",
       "3                        0        1  \n",
       "4                        1        0  \n",
       "...                    ...      ...  \n",
       "14294                    0        1  \n",
       "14295                    0        0  \n",
       "14296                    1        1  \n",
       "14297                    0        1  \n",
       "14298                    0        1  \n",
       "\n",
       "[14299 rows x 11 columns]"
      ]
     },
     "execution_count": 23,
     "metadata": {},
     "output_type": "execute_result"
    }
   ],
   "source": [
    "# Isolate predictor variables\n",
    "X = df.loc[:,~ df.columns.isin([\"label\",\"label2\", \"device\", \"sessions\", \"driving_days\"])]\n",
    "X"
   ]
  },
  {
   "cell_type": "markdown",
   "metadata": {
    "id": "5c1Dzcz6C3WR"
   },
   "source": [
    "Now, isolate the dependent (target) variable. Assign it to a variable called `y`."
   ]
  },
  {
   "cell_type": "code",
   "execution_count": 24,
   "metadata": {
    "id": "h0QFCHIJC3-I"
   },
   "outputs": [],
   "source": [
    "# Isolate target variable\n",
    "y = df[\"label2\"]"
   ]
  },
  {
   "cell_type": "markdown",
   "metadata": {
    "id": "VOewKY740Beq"
   },
   "source": [
    "#### **Split the data**\n",
    "\n",
    "Use scikit-learn's [`train_test_split()`](https://scikit-learn.org/stable/modules/generated/sklearn.model_selection.train_test_split.html) function to perform a train/test split on your data using the X and y variables you assigned above.\n",
    "\n",
    "**Note 1:** It is important to do a train test to obtain accurate predictions.  You always want to fit your model on your training set and evaluate your model on your test set to avoid data leakage.\n",
    "\n",
    "**Note 2:** Because the target class is imbalanced (82% retained vs. 18% churned), you want to make sure that you don't get an unlucky split that over- or under-represents the frequency of the minority class. Set the function's `stratify` parameter to `y` to ensure that the minority class appears in both train and test sets in the same proportion that it does in the overall dataset."
   ]
  },
  {
   "cell_type": "code",
   "execution_count": 82,
   "metadata": {
    "id": "ulDZdfSS0FyD"
   },
   "outputs": [],
   "source": [
    "# Perform the train-test split\n",
    "X_train, X_test, y_train, y_test = train_test_split(X, y, random_state=42, stratify = y)"
   ]
  },
  {
   "cell_type": "code",
   "execution_count": 85,
   "metadata": {
    "id": "Q1vdmEo3mKmO"
   },
   "outputs": [
    {
     "data": {
      "text/html": [
       "<div>\n",
       "<style scoped>\n",
       "    .dataframe tbody tr th:only-of-type {\n",
       "        vertical-align: middle;\n",
       "    }\n",
       "\n",
       "    .dataframe tbody tr th {\n",
       "        vertical-align: top;\n",
       "    }\n",
       "\n",
       "    .dataframe thead th {\n",
       "        text-align: right;\n",
       "    }\n",
       "</style>\n",
       "<table border=\"1\" class=\"dataframe\">\n",
       "  <thead>\n",
       "    <tr style=\"text-align: right;\">\n",
       "      <th></th>\n",
       "      <th>drives</th>\n",
       "      <th>total_sessions</th>\n",
       "      <th>n_days_after_onboarding</th>\n",
       "      <th>total_navigations_fav1</th>\n",
       "      <th>total_navigations_fav2</th>\n",
       "      <th>driven_km_drives</th>\n",
       "      <th>duration_minutes_drives</th>\n",
       "      <th>activity_days</th>\n",
       "      <th>km_per_driving_day</th>\n",
       "      <th>professional_driver</th>\n",
       "      <th>device2</th>\n",
       "    </tr>\n",
       "  </thead>\n",
       "  <tbody>\n",
       "    <tr>\n",
       "      <th>147</th>\n",
       "      <td>108.0</td>\n",
       "      <td>186.192746</td>\n",
       "      <td>3116</td>\n",
       "      <td>243.0</td>\n",
       "      <td>124.0</td>\n",
       "      <td>8898.673443</td>\n",
       "      <td>4668.110461</td>\n",
       "      <td>24</td>\n",
       "      <td>612.305861</td>\n",
       "      <td>0</td>\n",
       "      <td>1</td>\n",
       "    </tr>\n",
       "    <tr>\n",
       "      <th>11335</th>\n",
       "      <td>2.0</td>\n",
       "      <td>3.487590</td>\n",
       "      <td>794</td>\n",
       "      <td>114.0</td>\n",
       "      <td>18.0</td>\n",
       "      <td>3286.545691</td>\n",
       "      <td>1780.902733</td>\n",
       "      <td>5</td>\n",
       "      <td>3286.545691</td>\n",
       "      <td>0</td>\n",
       "      <td>1</td>\n",
       "    </tr>\n",
       "    <tr>\n",
       "      <th>10416</th>\n",
       "      <td>139.0</td>\n",
       "      <td>347.106403</td>\n",
       "      <td>331</td>\n",
       "      <td>4.0</td>\n",
       "      <td>7.0</td>\n",
       "      <td>7400.838975</td>\n",
       "      <td>2349.305267</td>\n",
       "      <td>15</td>\n",
       "      <td>616.736581</td>\n",
       "      <td>0</td>\n",
       "      <td>0</td>\n",
       "    </tr>\n",
       "    <tr>\n",
       "      <th>646</th>\n",
       "      <td>108.0</td>\n",
       "      <td>455.427207</td>\n",
       "      <td>2320</td>\n",
       "      <td>11.0</td>\n",
       "      <td>4.0</td>\n",
       "      <td>6566.424830</td>\n",
       "      <td>4558.459870</td>\n",
       "      <td>18</td>\n",
       "      <td>410.401552</td>\n",
       "      <td>1</td>\n",
       "      <td>1</td>\n",
       "    </tr>\n",
       "    <tr>\n",
       "      <th>8002</th>\n",
       "      <td>10.0</td>\n",
       "      <td>89.475821</td>\n",
       "      <td>2478</td>\n",
       "      <td>135.0</td>\n",
       "      <td>0.0</td>\n",
       "      <td>1271.248661</td>\n",
       "      <td>938.711572</td>\n",
       "      <td>27</td>\n",
       "      <td>74.779333</td>\n",
       "      <td>0</td>\n",
       "      <td>1</td>\n",
       "    </tr>\n",
       "  </tbody>\n",
       "</table>\n",
       "</div>"
      ],
      "text/plain": [
       "       drives  total_sessions  n_days_after_onboarding  \\\n",
       "147     108.0      186.192746                     3116   \n",
       "11335     2.0        3.487590                      794   \n",
       "10416   139.0      347.106403                      331   \n",
       "646     108.0      455.427207                     2320   \n",
       "8002     10.0       89.475821                     2478   \n",
       "\n",
       "       total_navigations_fav1  total_navigations_fav2  driven_km_drives  \\\n",
       "147                     243.0                   124.0       8898.673443   \n",
       "11335                   114.0                    18.0       3286.545691   \n",
       "10416                     4.0                     7.0       7400.838975   \n",
       "646                      11.0                     4.0       6566.424830   \n",
       "8002                    135.0                     0.0       1271.248661   \n",
       "\n",
       "       duration_minutes_drives  activity_days  km_per_driving_day  \\\n",
       "147                4668.110461             24          612.305861   \n",
       "11335              1780.902733              5         3286.545691   \n",
       "10416              2349.305267             15          616.736581   \n",
       "646                4558.459870             18          410.401552   \n",
       "8002                938.711572             27           74.779333   \n",
       "\n",
       "       professional_driver  device2  \n",
       "147                      0        1  \n",
       "11335                    0        1  \n",
       "10416                    0        0  \n",
       "646                      1        1  \n",
       "8002                     0        1  "
      ]
     },
     "execution_count": 85,
     "metadata": {},
     "output_type": "execute_result"
    }
   ],
   "source": [
    "# Use .head()\n",
    "X_train.head()"
   ]
  },
  {
   "cell_type": "markdown",
   "metadata": {
    "id": "ZMUo8Ri-zK7r"
   },
   "source": [
    "Use scikit-learn to instantiate a logistic regression model. Add the argument `penalty = None`.\n",
    "\n",
    "It is important to add `penalty = None` since your predictors are unscaled.\n",
    "\n",
    "Refer to scikit-learn's [logistic regression](https://scikit-learn.org/stable/modules/generated/sklearn.linear_model.LogisticRegression.html) documentation for more information.\n",
    "\n",
    "Fit the model on `X_train` and `y_train`."
   ]
  },
  {
   "cell_type": "code",
   "execution_count": 86,
   "metadata": {
    "id": "zrTNaDVZheyp"
   },
   "outputs": [],
   "source": [
    "clf = LogisticRegression(penalty = \"none\", max_iter=400).fit(X_train, y_train)"
   ]
  },
  {
   "cell_type": "markdown",
   "metadata": {
    "id": "aPoDllWB6ULV"
   },
   "source": [
    "Call the `.coef_` attribute on the model to get the coefficients of each variable.  The coefficients are in order of how the variables are listed in the dataset.  Remember that the coefficients represent the change in the **log odds** of the target variable for **every one unit increase in X**.\n",
    "\n",
    "If you want, create a series whose index is the column names and whose values are the coefficients in `model.coef_`."
   ]
  },
  {
   "cell_type": "code",
   "execution_count": 87,
   "metadata": {
    "id": "7Ri-OHrlmd8j"
   },
   "outputs": [
    {
     "data": {
      "text/plain": [
       "array([ 1.91244615e-03,  3.28047922e-04, -4.06513077e-04,  1.23176993e-03,\n",
       "        9.30800597e-04, -1.49148276e-05,  1.09122812e-04, -1.06024427e-01,\n",
       "        1.82998353e-05, -1.47004087e-03, -1.04103936e-03])"
      ]
     },
     "execution_count": 87,
     "metadata": {},
     "output_type": "execute_result"
    }
   ],
   "source": [
    "coef = clf.coef_\n",
    "coef2 = coef.flatten()\n",
    "coef2"
   ]
  },
  {
   "cell_type": "code",
   "execution_count": 88,
   "metadata": {},
   "outputs": [
    {
     "data": {
      "text/plain": [
       "drives                     0.001912\n",
       "total_sessions             0.000328\n",
       "n_days_after_onboarding   -0.000407\n",
       "total_navigations_fav1     0.001232\n",
       "total_navigations_fav2     0.000931\n",
       "driven_km_drives          -0.000015\n",
       "duration_minutes_drives    0.000109\n",
       "activity_days             -0.106024\n",
       "km_per_driving_day         0.000018\n",
       "professional_driver       -0.001470\n",
       "device2                   -0.001041\n",
       "dtype: float64"
      ]
     },
     "execution_count": 88,
     "metadata": {},
     "output_type": "execute_result"
    }
   ],
   "source": [
    "col_names = [\"drives\", \n",
    "             \"total_sessions\", \n",
    "             \"n_days_after_onboarding\", \n",
    "             \"total_navigations_fav1\", \n",
    "             \"total_navigations_fav2\", \n",
    "             \"driven_km_drives\", \n",
    "             \"duration_minutes_drives\", \n",
    "             \"activity_days\", \n",
    "             \"km_per_driving_day\", \n",
    "             \"professional_driver\", \n",
    "             \"device2\"]\n",
    "\n",
    "ser = pd.Series(coef2, index = col_names)\n",
    "ser"
   ]
  },
  {
   "cell_type": "markdown",
   "metadata": {
    "id": "_ENmLXXp8JDM"
   },
   "source": [
    "Call the model's `intercept_` attribute to get the intercept of the model."
   ]
  },
  {
   "cell_type": "code",
   "execution_count": 89,
   "metadata": {
    "id": "hWeruvy1wksj"
   },
   "outputs": [
    {
     "data": {
      "text/plain": [
       "array([-0.00170676])"
      ]
     },
     "execution_count": 89,
     "metadata": {},
     "output_type": "execute_result"
    }
   ],
   "source": [
    "clf.intercept_"
   ]
  },
  {
   "cell_type": "markdown",
   "metadata": {
    "id": "tdVIjKNHmlY_"
   },
   "source": [
    "#### **Check final assumption**\n",
    "\n",
    "Verify the linear relationship between X and the estimated log odds (known as logits) by making a regplot.\n",
    "\n",
    "Call the model's `predict_proba()` method to generate the probability of response for each sample in the training data. (The training data is the argument to the method.) Assign the result to a variable called `training_probabilities`. This results in a 2-D array where each row represents a user in `X_train`. The first column is the probability of the user not churning, and the second column is the probability of the user churning."
   ]
  },
  {
   "cell_type": "code",
   "execution_count": 90,
   "metadata": {
    "id": "aY71xhehmo9i"
   },
   "outputs": [
    {
     "data": {
      "text/plain": [
       "array([[0.93956138, 0.06043862],\n",
       "       [0.61964319, 0.38035681],\n",
       "       [0.76462797, 0.23537203],\n",
       "       ...,\n",
       "       [0.91909559, 0.08090441],\n",
       "       [0.85094063, 0.14905937],\n",
       "       [0.9351609 , 0.0648391 ]])"
      ]
     },
     "execution_count": 90,
     "metadata": {},
     "output_type": "execute_result"
    }
   ],
   "source": [
    "# Get the predicted probabilities of the training data\n",
    "training_probabilities = clf.predict_proba(X_train)\n",
    "training_probabilities\n"
   ]
  },
  {
   "cell_type": "markdown",
   "metadata": {
    "id": "9AGMCvdfmpfU"
   },
   "source": [
    "In logistic regression, the relationship between a predictor variable and the dependent variable does not need to be linear, however, the log-odds (a.k.a., logit) of the dependent variable with respect to the predictor variable should be linear. Here is the formula for calculating log-odds, where _p_ is the probability of response:\n",
    "<br>\n",
    "$$\n",
    "logit(p) = ln(\\frac{p}{1-p})\n",
    "$$\n",
    "<br>\n",
    "\n",
    "1. Create a dataframe called `logit_data` that is a copy of `df`.\n",
    "\n",
    "2. Create a new column called `logit` in the `logit_data` dataframe. The data in this column should represent the logit for each user.\n"
   ]
  },
  {
   "cell_type": "code",
   "execution_count": 91,
   "metadata": {
    "id": "vmpnaksUm7RG"
   },
   "outputs": [],
   "source": [
    "from scipy.special import logit, expit"
   ]
  },
  {
   "cell_type": "markdown",
   "metadata": {
    "id": "sZ3OxYhoEdmC"
   },
   "source": [
    "In logistic regression, the relationship between a predictor variable and the dependent variable does not need to be linear, however, the log-odds (a.k.a., logit) of the dependent variable with respect to the predictor variable should be linear. Here is the formula for calculating log-odds, where _p_ is the probability of response:\n",
    "<br>\n",
    "$$\n",
    "logit(p) = ln(\\frac{p}{1-p})\n",
    "$$\n",
    "<br>\n",
    "\n",
    "1. Create a dataframe called `logit_data` that is a copy of `df`.\n",
    "\n",
    "2. Create a new column called `logit` in the `logit_data` dataframe. The data in this column should represent the logit for each user.\n"
   ]
  },
  {
   "cell_type": "code",
   "execution_count": 94,
   "metadata": {
    "id": "-tXq8gYnEw6M"
   },
   "outputs": [
    {
     "data": {
      "text/html": [
       "<div>\n",
       "<style scoped>\n",
       "    .dataframe tbody tr th:only-of-type {\n",
       "        vertical-align: middle;\n",
       "    }\n",
       "\n",
       "    .dataframe tbody tr th {\n",
       "        vertical-align: top;\n",
       "    }\n",
       "\n",
       "    .dataframe thead th {\n",
       "        text-align: right;\n",
       "    }\n",
       "</style>\n",
       "<table border=\"1\" class=\"dataframe\">\n",
       "  <thead>\n",
       "    <tr style=\"text-align: right;\">\n",
       "      <th></th>\n",
       "      <th>drives</th>\n",
       "      <th>total_sessions</th>\n",
       "      <th>n_days_after_onboarding</th>\n",
       "      <th>total_navigations_fav1</th>\n",
       "      <th>total_navigations_fav2</th>\n",
       "      <th>driven_km_drives</th>\n",
       "      <th>duration_minutes_drives</th>\n",
       "      <th>activity_days</th>\n",
       "      <th>km_per_driving_day</th>\n",
       "      <th>professional_driver</th>\n",
       "      <th>device2</th>\n",
       "      <th>logit</th>\n",
       "    </tr>\n",
       "  </thead>\n",
       "  <tbody>\n",
       "    <tr>\n",
       "      <th>147</th>\n",
       "      <td>108.0</td>\n",
       "      <td>186.192746</td>\n",
       "      <td>3116</td>\n",
       "      <td>243.0</td>\n",
       "      <td>124.0</td>\n",
       "      <td>8898.673443</td>\n",
       "      <td>4668.110461</td>\n",
       "      <td>24</td>\n",
       "      <td>612.305861</td>\n",
       "      <td>0</td>\n",
       "      <td>1</td>\n",
       "      <td>-2.743785</td>\n",
       "    </tr>\n",
       "    <tr>\n",
       "      <th>11335</th>\n",
       "      <td>2.0</td>\n",
       "      <td>3.487590</td>\n",
       "      <td>794</td>\n",
       "      <td>114.0</td>\n",
       "      <td>18.0</td>\n",
       "      <td>3286.545691</td>\n",
       "      <td>1780.902733</td>\n",
       "      <td>5</td>\n",
       "      <td>3286.545691</td>\n",
       "      <td>0</td>\n",
       "      <td>1</td>\n",
       "      <td>-0.488034</td>\n",
       "    </tr>\n",
       "    <tr>\n",
       "      <th>10416</th>\n",
       "      <td>139.0</td>\n",
       "      <td>347.106403</td>\n",
       "      <td>331</td>\n",
       "      <td>4.0</td>\n",
       "      <td>7.0</td>\n",
       "      <td>7400.838975</td>\n",
       "      <td>2349.305267</td>\n",
       "      <td>15</td>\n",
       "      <td>616.736581</td>\n",
       "      <td>0</td>\n",
       "      <td>0</td>\n",
       "      <td>-1.178222</td>\n",
       "    </tr>\n",
       "    <tr>\n",
       "      <th>646</th>\n",
       "      <td>108.0</td>\n",
       "      <td>455.427207</td>\n",
       "      <td>2320</td>\n",
       "      <td>11.0</td>\n",
       "      <td>4.0</td>\n",
       "      <td>6566.424830</td>\n",
       "      <td>4558.459870</td>\n",
       "      <td>18</td>\n",
       "      <td>410.401552</td>\n",
       "      <td>1</td>\n",
       "      <td>1</td>\n",
       "      <td>-2.075544</td>\n",
       "    </tr>\n",
       "    <tr>\n",
       "      <th>8002</th>\n",
       "      <td>10.0</td>\n",
       "      <td>89.475821</td>\n",
       "      <td>2478</td>\n",
       "      <td>135.0</td>\n",
       "      <td>0.0</td>\n",
       "      <td>1271.248661</td>\n",
       "      <td>938.711572</td>\n",
       "      <td>27</td>\n",
       "      <td>74.779333</td>\n",
       "      <td>0</td>\n",
       "      <td>1</td>\n",
       "      <td>-3.573138</td>\n",
       "    </tr>\n",
       "    <tr>\n",
       "      <th>...</th>\n",
       "      <td>...</td>\n",
       "      <td>...</td>\n",
       "      <td>...</td>\n",
       "      <td>...</td>\n",
       "      <td>...</td>\n",
       "      <td>...</td>\n",
       "      <td>...</td>\n",
       "      <td>...</td>\n",
       "      <td>...</td>\n",
       "      <td>...</td>\n",
       "      <td>...</td>\n",
       "      <td>...</td>\n",
       "    </tr>\n",
       "    <tr>\n",
       "      <th>12740</th>\n",
       "      <td>12.0</td>\n",
       "      <td>95.550956</td>\n",
       "      <td>801</td>\n",
       "      <td>250.0</td>\n",
       "      <td>4.0</td>\n",
       "      <td>2031.247401</td>\n",
       "      <td>1326.508435</td>\n",
       "      <td>4</td>\n",
       "      <td>1015.623701</td>\n",
       "      <td>0</td>\n",
       "      <td>0</td>\n",
       "      <td>-0.252419</td>\n",
       "    </tr>\n",
       "    <tr>\n",
       "      <th>7837</th>\n",
       "      <td>78.0</td>\n",
       "      <td>436.258238</td>\n",
       "      <td>2511</td>\n",
       "      <td>0.0</td>\n",
       "      <td>39.0</td>\n",
       "      <td>8227.304692</td>\n",
       "      <td>2512.499678</td>\n",
       "      <td>28</td>\n",
       "      <td>457.072483</td>\n",
       "      <td>1</td>\n",
       "      <td>0</td>\n",
       "      <td>-3.504203</td>\n",
       "    </tr>\n",
       "    <tr>\n",
       "      <th>1490</th>\n",
       "      <td>52.0</td>\n",
       "      <td>121.027899</td>\n",
       "      <td>28</td>\n",
       "      <td>12.0</td>\n",
       "      <td>0.0</td>\n",
       "      <td>7929.973718</td>\n",
       "      <td>4668.110461</td>\n",
       "      <td>28</td>\n",
       "      <td>417.367038</td>\n",
       "      <td>0</td>\n",
       "      <td>1</td>\n",
       "      <td>-2.430122</td>\n",
       "    </tr>\n",
       "    <tr>\n",
       "      <th>2752</th>\n",
       "      <td>12.0</td>\n",
       "      <td>134.824277</td>\n",
       "      <td>1855</td>\n",
       "      <td>73.0</td>\n",
       "      <td>55.0</td>\n",
       "      <td>8347.946528</td>\n",
       "      <td>2601.703172</td>\n",
       "      <td>13</td>\n",
       "      <td>1391.324421</td>\n",
       "      <td>0</td>\n",
       "      <td>1</td>\n",
       "      <td>-1.741998</td>\n",
       "    </tr>\n",
       "    <tr>\n",
       "      <th>12523</th>\n",
       "      <td>200.0</td>\n",
       "      <td>327.571613</td>\n",
       "      <td>2108</td>\n",
       "      <td>4.0</td>\n",
       "      <td>62.0</td>\n",
       "      <td>7334.950769</td>\n",
       "      <td>4581.545214</td>\n",
       "      <td>26</td>\n",
       "      <td>318.910903</td>\n",
       "      <td>1</td>\n",
       "      <td>1</td>\n",
       "      <td>-2.668810</td>\n",
       "    </tr>\n",
       "  </tbody>\n",
       "</table>\n",
       "<p>10724 rows × 12 columns</p>\n",
       "</div>"
      ],
      "text/plain": [
       "       drives  total_sessions  n_days_after_onboarding  \\\n",
       "147     108.0      186.192746                     3116   \n",
       "11335     2.0        3.487590                      794   \n",
       "10416   139.0      347.106403                      331   \n",
       "646     108.0      455.427207                     2320   \n",
       "8002     10.0       89.475821                     2478   \n",
       "...       ...             ...                      ...   \n",
       "12740    12.0       95.550956                      801   \n",
       "7837     78.0      436.258238                     2511   \n",
       "1490     52.0      121.027899                       28   \n",
       "2752     12.0      134.824277                     1855   \n",
       "12523   200.0      327.571613                     2108   \n",
       "\n",
       "       total_navigations_fav1  total_navigations_fav2  driven_km_drives  \\\n",
       "147                     243.0                   124.0       8898.673443   \n",
       "11335                   114.0                    18.0       3286.545691   \n",
       "10416                     4.0                     7.0       7400.838975   \n",
       "646                      11.0                     4.0       6566.424830   \n",
       "8002                    135.0                     0.0       1271.248661   \n",
       "...                       ...                     ...               ...   \n",
       "12740                   250.0                     4.0       2031.247401   \n",
       "7837                      0.0                    39.0       8227.304692   \n",
       "1490                     12.0                     0.0       7929.973718   \n",
       "2752                     73.0                    55.0       8347.946528   \n",
       "12523                     4.0                    62.0       7334.950769   \n",
       "\n",
       "       duration_minutes_drives  activity_days  km_per_driving_day  \\\n",
       "147                4668.110461             24          612.305861   \n",
       "11335              1780.902733              5         3286.545691   \n",
       "10416              2349.305267             15          616.736581   \n",
       "646                4558.459870             18          410.401552   \n",
       "8002                938.711572             27           74.779333   \n",
       "...                        ...            ...                 ...   \n",
       "12740              1326.508435              4         1015.623701   \n",
       "7837               2512.499678             28          457.072483   \n",
       "1490               4668.110461             28          417.367038   \n",
       "2752               2601.703172             13         1391.324421   \n",
       "12523              4581.545214             26          318.910903   \n",
       "\n",
       "       professional_driver  device2     logit  \n",
       "147                      0        1 -2.743785  \n",
       "11335                    0        1 -0.488034  \n",
       "10416                    0        0 -1.178222  \n",
       "646                      1        1 -2.075544  \n",
       "8002                     0        1 -3.573138  \n",
       "...                    ...      ...       ...  \n",
       "12740                    0        0 -0.252419  \n",
       "7837                     1        0 -3.504203  \n",
       "1490                     0        1 -2.430122  \n",
       "2752                     0        1 -1.741998  \n",
       "12523                    1        1 -2.668810  \n",
       "\n",
       "[10724 rows x 12 columns]"
      ]
     },
     "execution_count": 94,
     "metadata": {},
     "output_type": "execute_result"
    }
   ],
   "source": [
    "# 1. Copy the `X_train` dataframe and assign to `logit_data`\n",
    "logit_data = X_train\n",
    "\n",
    "# 2. Create a new `logit` column in the `logit_data` df\n",
    "logit_data[\"logit\"] = [np.log(prob[1] / prob[0]) for prob in training_probabilities]\n",
    "logit_data"
   ]
  },
  {
   "cell_type": "markdown",
   "metadata": {
    "id": "J6oVbApcEx71"
   },
   "source": [
    "Plot a regplot where the x-axis represents an independent variable and the y-axis represents the log-odds of the predicted probabilities.\n",
    "\n",
    "In an exhaustive analysis, this would be plotted for each continuous or discrete predictor variable. Here we show only `driving_days`."
   ]
  },
  {
   "cell_type": "code",
   "execution_count": 96,
   "metadata": {
    "id": "5ix8VT0VEzQK"
   },
   "outputs": [
    {
     "data": {
      "text/plain": [
       "<matplotlib.axes._subplots.AxesSubplot at 0x7f432cf8ed10>"
      ]
     },
     "execution_count": 96,
     "metadata": {},
     "output_type": "execute_result"
    },
    {
     "data": {
      "image/png": "[encoded data removed]",
      "text/plain": [
       "<Figure size 432x288 with 1 Axes>"
      ]
     },
     "metadata": {
      "needs_background": "light"
     },
     "output_type": "display_data"
    }
   ],
   "source": [
    "# Plot regplot of `activity_days` log-odds\n",
    "sns.regplot(data = logit_data, y = \"logit\", x = \"activity_days\", ci = None)"
   ]
  },
  {
   "cell_type": "markdown",
   "metadata": {
    "id": "cp7ojoBldEYy"
   },
   "source": [
    "<img src=\"images/Execute.png\" width=\"100\" height=\"100\" align=left>\n",
    "\n",
    "## **PACE: Execute**\n",
    "\n",
    "Consider the questions in your PACE Strategy Document to reflect on the Execute stage."
   ]
  },
  {
   "cell_type": "markdown",
   "metadata": {
    "id": "F_l3bkxQdJ3a"
   },
   "source": [
    "### **Task 4a. Results and evaluation**\n",
    "\n",
    "If the logistic assumptions are met, the model results can be appropriately interpreted.\n",
    "\n",
    "Use the code block below to make predictions on the test data.\n"
   ]
  },
  {
   "cell_type": "code",
   "execution_count": 97,
   "metadata": {
    "id": "cSl5gbXfBPBN"
   },
   "outputs": [],
   "source": [
    "# Generate predictions on X_test\n",
    "y_pred = clf.predict(X_test)"
   ]
  },
  {
   "cell_type": "markdown",
   "metadata": {
    "id": "dbN_LHUb9uhp"
   },
   "source": [
    "Now, use the `score()` method on the model with `X_test` and `y_test` as its two arguments. The default score in scikit-learn is **accuracy**.  What is the accuracy of your model?\n",
    "\n",
    "*Consider:  Is accuracy the best metric to use to evaluate this model?*"
   ]
  },
  {
   "cell_type": "code",
   "execution_count": 98,
   "metadata": {
    "id": "fU3v-XO49qm8"
   },
   "outputs": [
    {
     "data": {
      "text/plain": [
       "0.8237762237762237"
      ]
     },
     "execution_count": 98,
     "metadata": {},
     "output_type": "execute_result"
    }
   ],
   "source": [
    "# Score the model (accuracy) on the test data\n",
    "clf.score(X_test, y_test)"
   ]
  },
  {
   "cell_type": "markdown",
   "metadata": {
    "id": "mwRmSDS3eyeH"
   },
   "source": [
    "### **Task 4b. Show results with a confusion matrix**"
   ]
  },
  {
   "cell_type": "markdown",
   "metadata": {
    "id": "qUKLVt50-zFE"
   },
   "source": [
    "Use the `confusion_matrix` function to obtain a confusion matrix. Use `y_test` and `y_preds` as arguments."
   ]
  },
  {
   "cell_type": "code",
   "execution_count": 99,
   "metadata": {
    "id": "IBFU_dicBjwQ"
   },
   "outputs": [],
   "source": [
    "cm = metrics.confusion_matrix(y_test, y_pred, labels = clf.classes_)"
   ]
  },
  {
   "cell_type": "markdown",
   "metadata": {
    "id": "EKS_DsNcGotN"
   },
   "source": [
    "Next, use the `ConfusionMatrixDisplay()` function to display the confusion matrix from the above cell, passing the confusion matrix you just created as its argument."
   ]
  },
  {
   "cell_type": "code",
   "execution_count": 100,
   "metadata": {
    "id": "BT0hOH_ZFsnx"
   },
   "outputs": [
    {
     "data": {
      "text/plain": [
       "<sklearn.metrics._plot.confusion_matrix.ConfusionMatrixDisplay at 0x7f432cef8050>"
      ]
     },
     "execution_count": 100,
     "metadata": {},
     "output_type": "execute_result"
    },
    {
     "data": {
      "image/png": "[encoded data removed]",
      "text/plain": [
       "<Figure size 432x288 with 2 Axes>"
      ]
     },
     "metadata": {
      "needs_background": "light"
     },
     "output_type": "display_data"
    }
   ],
   "source": [
    "disp = metrics.ConfusionMatrixDisplay(confusion_matrix = cm, display_labels = clf.classes_)\n",
    "disp.plot()"
   ]
  },
  {
   "cell_type": "markdown",
   "metadata": {
    "id": "tkqTjhWotVCK"
   },
   "source": [
    "You can use the confusion matrix to compute precision and recall manually. You can also use scikit-learn's [`classification_report()`](https://scikit-learn.org/stable/modules/generated/sklearn.metrics.classification_report.html) function to generate a table from `y_test` and `y_preds`."
   ]
  },
  {
   "cell_type": "code",
   "execution_count": 101,
   "metadata": {
    "id": "39RM-g6UtbJ_"
   },
   "outputs": [
    {
     "name": "stdout",
     "output_type": "stream",
     "text": [
      "Precision: 0.517857\n"
     ]
    }
   ],
   "source": [
    "# Calculate precision manually\n",
    "\n",
    "print(\"Precision:\", \"%.6f\" % metrics.precision_score(y_test, y_pred))\n"
   ]
  },
  {
   "cell_type": "code",
   "execution_count": 102,
   "metadata": {
    "id": "xUy7TDpHGlOf"
   },
   "outputs": [
    {
     "name": "stdout",
     "output_type": "stream",
     "text": [
      "Recall: 0.091483\n"
     ]
    }
   ],
   "source": [
    "# Calculate recall manually\n",
    "print(\"Recall:\", \"%.6f\" % metrics.recall_score(y_test, y_pred))"
   ]
  },
  {
   "cell_type": "code",
   "execution_count": 103,
   "metadata": {
    "id": "jTxfglLMGlr_"
   },
   "outputs": [
    {
     "name": "stdout",
     "output_type": "stream",
     "text": [
      "              precision    recall  f1-score   support\n",
      "\n",
      "           0       0.83      0.98      0.90      2941\n",
      "           1       0.52      0.09      0.16       634\n",
      "\n",
      "    accuracy                           0.82      3575\n",
      "   macro avg       0.68      0.54      0.53      3575\n",
      "weighted avg       0.78      0.82      0.77      3575\n",
      "\n"
     ]
    }
   ],
   "source": [
    "# Create a classification report\n",
    "print(metrics.classification_report(y_test, y_pred))"
   ]
  },
  {
   "cell_type": "markdown",
   "metadata": {
    "id": "v8FQnyhnHFT7"
   },
   "source": [
    "**Note:** The model has decent precision but very low recall, which means that it makes a lot of false negative predictions and fails to capture users who will churn."
   ]
  },
  {
   "cell_type": "markdown",
   "metadata": {
    "id": "uSpkqurtHJSE"
   },
   "source": [
    "### **BONUS**\n",
    "\n",
    "Generate a bar graph of the model's coefficients for a visual representation of the importance of the model's features."
   ]
  },
  {
   "cell_type": "code",
   "execution_count": 105,
   "metadata": {
    "id": "tuT0aP6FHL6B"
   },
   "outputs": [
    {
     "data": {
      "text/plain": [
       "[('drives', 0.0019124461530017056),\n",
       " ('total_navigations_fav1', 0.001231769934713348),\n",
       " ('total_navigations_fav2', 0.0009308005972300414),\n",
       " ('total_sessions', 0.0003280479219359034),\n",
       " ('duration_minutes_drives', 0.00010912281232189377),\n",
       " ('km_per_driving_day', 1.8299835250087622e-05),\n",
       " ('driven_km_drives', -1.4914827605352372e-05),\n",
       " ('n_days_after_onboarding', -0.0004065130769820321),\n",
       " ('device2', -0.0010410393611996395),\n",
       " ('professional_driver', -0.001470040866153397),\n",
       " ('activity_days', -0.10602442692859014)]"
      ]
     },
     "execution_count": 105,
     "metadata": {},
     "output_type": "execute_result"
    }
   ],
   "source": [
    "# Create a list of (column_name, coefficient) tuples\n",
    "list_of_tuples = list(zip(col_names, coef2))\n",
    "\n",
    "# Sort the list by coefficient value\n",
    "list_of_tuples.sort(key=lambda a: a[1], reverse = True)\n",
    "list_of_tuples"
   ]
  },
  {
   "cell_type": "code",
   "execution_count": 107,
   "metadata": {
    "id": "kaam2OD8HOP5"
   },
   "outputs": [
    {
     "data": {
      "image/png": "[encoded data removed]",
      "text/plain": [
       "<Figure size 432x288 with 1 Axes>"
      ]
     },
     "metadata": {
      "needs_background": "light"
     },
     "output_type": "display_data"
    }
   ],
   "source": [
    "# Plot the feature importances\n",
    "sns.barplot(x=[x[1] for x in list_of_tuples],\n",
    "            y=[x[0] for x in list_of_tuples],\n",
    "            orient='h')\n",
    "plt.title('Feature importance');"
   ]
  },
  {
   "cell_type": "markdown",
   "metadata": {
    "id": "P6AlDDyhdzmG"
   },
   "source": [
    "### **Task 4c. Conclusion**\n",
    "\n",
    "Now that you've built your regression model, the next step is to share your findings with the Waze leadership team. Consider the following questions as you prepare to write your executive summary. Think about key points you may want to share with the team, and what information is most relevant to the user churn project.\n",
    "\n",
    "**Questions:**\n",
    "\n",
    "1. What variable most influenced the model's prediction? How? Was this surprising?\n",
    "\n",
    "2. Were there any variables that you expected to be stronger predictors than they were?\n",
    "\n",
    "3. Why might a variable you thought to be important not be important in the model?\n",
    "\n",
    "4. Would you recommend that Waze use this model? Why or why not?\n",
    "\n",
    "5. What could you do to improve this model?\n",
    "\n",
    "6. What additional features would you like to have to help improve the model?\n"
   ]
  },
  {
   "cell_type": "markdown",
   "metadata": {
    "id": "fTs79FvvT9It"
   },
   "source": [
    "1.\n",
    "> _`activity_days` was by far the most important feature in the model. It had a negative correlation with user churn. This was not surprising, as this variable was very strongly correlated with `driving_days`, which was known from EDA to have a negative correlation with churn._\n",
    "\n",
    "2.\n",
    ">_Yes. In previous EDA, user churn rate increased as the values in `km_per_driving_day` increased. The correlation heatmap here in this notebook revealed this variable to have the strongest positive correlation with churn of any of the predictor variables by a relatively large margin. In the model, it was the second-least-important variable._\n",
    "\n",
    "3.\n",
    "> _In a multiple logistic regression model, features can interact with each other and these interactions can result in seemingly counterintuitive relationships. This is both a strength and a weakness of predictive models, as capturing these interactions typically makes a model more predictive while at the same time making the model more difficult to explain._\n",
    "\n",
    "4.\n",
    "> _It depends. What would the model be used for? If it's used to drive consequential business decisions, then no. The model is not a strong enough predictor, as made clear by its poor recall score. However, if the model is only being used to guide further exploratory efforts, then it can have value._\n",
    "\n",
    "5.\n",
    "> _New features could be engineered to try to generate better predictive signal, as they often do if you have domain knowledge. In the case of this model, one of the engineered features (`professional_driver`) was the third-most-predictive predictor. It could also be helpful to scale the predictor variables, and/or to reconstruct the model with different combinations of predictor variables to reduce noise from unpredictive features._\n",
    "\n",
    "6.\n",
    "> _It would be helpful to have drive-level information for each user (such as drive times, geographic locations, etc.). It would probably also be helpful to have more granular data to know how users interact with the app. For example, how often do they report or confirm road hazard alerts? Finally, it could be helpful to know the monthly count of unique starting and ending locations each driver inputs._"
   ]
  },
  {
   "cell_type": "markdown",
   "metadata": {},
   "source": [
    "**Congratulations!** You've completed this lab. However, you may not notice a green check mark next to this item on Coursera's platform. Please continue your progress regardless of the check mark. Just click on the \"save\" icon at the top of this notebook to ensure your work has been logged. "
   ]
  }
 ],
 "metadata": {
  "colab": {
   "provenance": [
    {
     "file_id": "10VdUGxtn9_2OaVJAptrlOkngf4ZKm52V",
     "timestamp": 1671215458572
    },
    {
     "file_id": "1Et0HEKWEY0dZ0BaNZeH189bi-PnC-iUH",
     "timestamp": 1671209438879
    },
    {
     "file_id": "16ynSVRiYFz40jV9BFaXgY62vWJWEVjFA",
     "timestamp": 1671052218770
    },
    {
     "file_id": "15PPfvGb4OuUkuQoTTpKKgSeY9o9a_XrL",
     "timestamp": 1669649625868
    },
    {
     "file_id": "1_uBujapIzHItho27E-iPg9wn3aHtsjLG",
     "timestamp": 1664565386285
    }
   ],
   "toc_visible": true
  },
  "kernelspec": {
   "display_name": "Python 3",
   "language": "python",
   "name": "python3"
  },
  "language_info": {
   "codemirror_mode": {
    "name": "ipython",
    "version": 3
   },
   "file_extension": ".py",
   "mimetype": "text/x-python",
   "name": "python",
   "nbconvert_exporter": "python",
   "pygments_lexer": "ipython3",
   "version": "3.7.6"
  }
 },
 "nbformat": 4,
 "nbformat_minor": 1
}
